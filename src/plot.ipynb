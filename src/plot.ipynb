{
 "cells": [
  {
   "cell_type": "markdown",
   "metadata": {},
   "source": [
    "## Import Package"
   ]
  },
  {
   "cell_type": "code",
   "execution_count": 1,
   "metadata": {},
   "outputs": [],
   "source": [
    "import matplotlib.pyplot as plt\n",
    "import numpy as np\n",
    "import matplotlib.cm as cm\n",
    "from mpl_toolkits.axes_grid1 import make_axes_locatable\n",
    "from mpl_toolkits.mplot3d import Axes3D"
   ]
  },
  {
   "cell_type": "code",
   "execution_count": null,
   "metadata": {},
   "outputs": [],
   "source": [
    "NX = 47\n",
    "NY = 47\n",
    "x, y = np.loadtxt(\"../outputs/grid/x_withghost.txt\").reshape(6, NX, NY), np.loadtxt(\"../outputs/grid//y_withghost.txt\").reshape(6, NX, NY)\n",
    "x_u, y_u = np.loadtxt(\"../outputs/grid//x_u_withghost.txt\").reshape(6, NX, NY), np.loadtxt(\"../outputs/grid//y_u_withghost.txt\").reshape(6, NX, NY)\n",
    "x_v, y_v = np.loadtxt(\"../outputs/grid//x_v_withghost.txt\").reshape(6, NX, NY), np.loadtxt(\"../outputs/grid//y_v_withghost.txt\").reshape(6, NX, NY)\n",
    "dx = (x[:, 1:, :] - x[:, :-1, :]).flatten()\n",
    "dx_u = (x_u[:, 1:, :] - x_u[:, :-1, :]).flatten()\n",
    "dx_v = (x_v[:, 1:, :] - x_v[:, :-1, :]).flatten()\n",
    "for tmp in dx_v:\n",
    "    if tmp < 100000:\n",
    "        print(\"Wrong\")"
   ]
  },
  {
   "cell_type": "markdown",
   "metadata": {},
   "source": [
    "## Advection"
   ]
  },
  {
   "cell_type": "markdown",
   "metadata": {},
   "source": [
    "### Sphere"
   ]
  },
  {
   "cell_type": "code",
   "execution_count": null,
   "metadata": {},
   "outputs": [],
   "source": [
    "NX = 45\n",
    "NY = 45\n",
    "DT = 360.\n",
    "\"\"\"\n",
    "lon = np.zeros([6, NX, NY])\n",
    "lat = np.zeros([6, NX, NY])\n",
    "x = np.zeros([6, NX, NY])\n",
    "y = np.zeros([6, NX, NY])\n",
    "for p in range(6):\n",
    "    lon[p] = (np.loadtxt(f\"../outputs/patch{p+1}/lon.txt\") * 180 / np.pi).reshape(NX, NY)\n",
    "    lat[p] = (np.loadtxt(f\"../outputs/patch{p+1}/lat.txt\") * 180 / np.pi).reshape(NX, NY)\n",
    "    x[p] = (np.loadtxt(f\"../outputs/patch{p+1}/x.txt\") * 180 / np.pi).reshape(NX, NY)\n",
    "    y[p] = (np.loadtxt(f\"../outputs/patch{p+1}/y.txt\") * 180 / np.pi).reshape(NX, NY)\n",
    "\"\"\"\n",
    "lon = np.loadtxt(\"../outputs/grid//lon.txt\").reshape(6, NX, NY) * 180. / np.pi\n",
    "lat = np.loadtxt(\"../outputs/grid/lat.txt\").reshape(6, NX, NY) * 180. / np.pi\n",
    "\n",
    "x = np.loadtxt(\"../outputs/grid/x.txt\").reshape(6, NX, NY)\n",
    "y = np.loadtxt(\"../outputs/grid/y.txt\").reshape(6, NX, NY)\n",
    "\n",
    "count = 0\n",
    "h = np.zeros([6, NX, NY])\n",
    "for t in range(0, 6000, 10):\n",
    "    h = np.loadtxt(f\"../outputs/h/h_{t*10}.txt\").reshape(6, NX, NY)\n",
    "\n",
    "    plt.figure(figsize=(18,8))\n",
    "    plt.xlabel(\"LON\")\n",
    "    plt.ylabel(\"LAT\")\n",
    "    plt.title(f\"t = {t * 10 * DT / 60} min\", fontsize=14)\n",
    "\n",
    "    plt.contourf(lon[0], lat[0], h[0], levels=np.linspace(-1200, 1200, 13), extend='both')\n",
    "    plt.contourf(lon[1], lat[1], h[1], levels=np.linspace(-1200, 1200, 13), extend='both')\n",
    "    plt.contourf(lon[2, 0:NX//2, :], lat[2, 0:NX//2, :], h[2, 0:NX//2, :], levels=np.linspace(-1200, 1200, 13), extend='both')\n",
    "    plt.contourf(lon[2, NX//2:, :]-360, lat[2, NX//2:, :], h[2, NX//2:, :], levels=np.linspace(-1200, 1200, 13), extend='both')\n",
    "    plt.contourf(lon[3]-360, lat[3], h[3], levels=np.linspace(-1200, 1200, 12), extend='both')\n",
    "    plt.contourf(lon[4], lat[4], h[4], levels=np.linspace(-1200, 1200, 13), extend='both')\n",
    "    plt.contourf(lon[5], lat[5], h[5], levels=np.linspace(-1200, 1200, 13), extend='both')\n",
    "    cbar = plt.colorbar(pad=0.05)\n",
    "    cbar.set_ticks(np.linspace(-1200, 1200, 13))\n",
    "\n",
    "    plt.savefig(f\"../graphs/h/sphere/{count}.png\", dpi=150)\n",
    "    plt.close()\n",
    "    count += 1\n"
   ]
  },
  {
   "cell_type": "markdown",
   "metadata": {},
   "source": [
    "### Curvilinear"
   ]
  },
  {
   "cell_type": "code",
   "execution_count": 19,
   "metadata": {},
   "outputs": [
    {
     "ename": "KeyboardInterrupt",
     "evalue": "",
     "output_type": "error",
     "traceback": [
      "\u001b[0;31m---------------------------------------------------------------------------\u001b[0m",
      "\u001b[0;31mKeyboardInterrupt\u001b[0m                         Traceback (most recent call last)",
      "\u001b[1;32m/Users/Aaron/CSWM/src/plot.ipynb Cell 8\u001b[0m in \u001b[0;36m<cell line: 12>\u001b[0;34m()\u001b[0m\n\u001b[1;32m     <a href='vscode-notebook-cell:/Users/Aaron/CSWM/src/plot.ipynb#ch0000007?line=27'>28</a>\u001b[0m ax5\u001b[39m.\u001b[39mcontourf(x[\u001b[39m4\u001b[39m], y[\u001b[39m4\u001b[39m], h[\u001b[39m4\u001b[39m], levels\u001b[39m=\u001b[39mnp\u001b[39m.\u001b[39mlinspace(\u001b[39m-\u001b[39m\u001b[39m120\u001b[39m, \u001b[39m120\u001b[39m, \u001b[39m13\u001b[39m), extend\u001b[39m=\u001b[39m\u001b[39m'\u001b[39m\u001b[39mboth\u001b[39m\u001b[39m'\u001b[39m)\n\u001b[1;32m     <a href='vscode-notebook-cell:/Users/Aaron/CSWM/src/plot.ipynb#ch0000007?line=28'>29</a>\u001b[0m ax6\u001b[39m.\u001b[39mcontourf(x[\u001b[39m5\u001b[39m], y[\u001b[39m5\u001b[39m], h[\u001b[39m5\u001b[39m], levels\u001b[39m=\u001b[39mnp\u001b[39m.\u001b[39mlinspace(\u001b[39m-\u001b[39m\u001b[39m120\u001b[39m, \u001b[39m120\u001b[39m, \u001b[39m13\u001b[39m), extend\u001b[39m=\u001b[39m\u001b[39m'\u001b[39m\u001b[39mboth\u001b[39m\u001b[39m'\u001b[39m)\n\u001b[0;32m---> <a href='vscode-notebook-cell:/Users/Aaron/CSWM/src/plot.ipynb#ch0000007?line=30'>31</a>\u001b[0m plt\u001b[39m.\u001b[39;49msavefig(\u001b[39mf\u001b[39;49m\u001b[39m\"\u001b[39;49m\u001b[39m../graphs/h/curvilinear/\u001b[39;49m\u001b[39m{\u001b[39;49;00mcount\u001b[39m}\u001b[39;49;00m\u001b[39m.png\u001b[39;49m\u001b[39m\"\u001b[39;49m, dpi\u001b[39m=\u001b[39;49m\u001b[39m150\u001b[39;49m)\n\u001b[1;32m     <a href='vscode-notebook-cell:/Users/Aaron/CSWM/src/plot.ipynb#ch0000007?line=31'>32</a>\u001b[0m plt\u001b[39m.\u001b[39mclose()\n\u001b[1;32m     <a href='vscode-notebook-cell:/Users/Aaron/CSWM/src/plot.ipynb#ch0000007?line=32'>33</a>\u001b[0m count \u001b[39m+\u001b[39m\u001b[39m=\u001b[39m \u001b[39m1\u001b[39m\n",
      "File \u001b[0;32m~/miniconda3/lib/python3.8/site-packages/matplotlib/pyplot.py:959\u001b[0m, in \u001b[0;36msavefig\u001b[0;34m(*args, **kwargs)\u001b[0m\n\u001b[1;32m    957\u001b[0m fig \u001b[39m=\u001b[39m gcf()\n\u001b[1;32m    958\u001b[0m res \u001b[39m=\u001b[39m fig\u001b[39m.\u001b[39msavefig(\u001b[39m*\u001b[39margs, \u001b[39m*\u001b[39m\u001b[39m*\u001b[39mkwargs)\n\u001b[0;32m--> 959\u001b[0m fig\u001b[39m.\u001b[39;49mcanvas\u001b[39m.\u001b[39;49mdraw_idle()   \u001b[39m# need this if 'transparent=True' to reset colors\u001b[39;00m\n\u001b[1;32m    960\u001b[0m \u001b[39mreturn\u001b[39;00m res\n",
      "File \u001b[0;32m~/miniconda3/lib/python3.8/site-packages/matplotlib/backend_bases.py:2060\u001b[0m, in \u001b[0;36mFigureCanvasBase.draw_idle\u001b[0;34m(self, *args, **kwargs)\u001b[0m\n\u001b[1;32m   2058\u001b[0m \u001b[39mif\u001b[39;00m \u001b[39mnot\u001b[39;00m \u001b[39mself\u001b[39m\u001b[39m.\u001b[39m_is_idle_drawing:\n\u001b[1;32m   2059\u001b[0m     \u001b[39mwith\u001b[39;00m \u001b[39mself\u001b[39m\u001b[39m.\u001b[39m_idle_draw_cntx():\n\u001b[0;32m-> 2060\u001b[0m         \u001b[39mself\u001b[39;49m\u001b[39m.\u001b[39;49mdraw(\u001b[39m*\u001b[39;49margs, \u001b[39m*\u001b[39;49m\u001b[39m*\u001b[39;49mkwargs)\n",
      "File \u001b[0;32m~/miniconda3/lib/python3.8/site-packages/matplotlib/backends/backend_agg.py:436\u001b[0m, in \u001b[0;36mFigureCanvasAgg.draw\u001b[0;34m(self)\u001b[0m\n\u001b[1;32m    432\u001b[0m \u001b[39m# Acquire a lock on the shared font cache.\u001b[39;00m\n\u001b[1;32m    433\u001b[0m \u001b[39mwith\u001b[39;00m RendererAgg\u001b[39m.\u001b[39mlock, \\\n\u001b[1;32m    434\u001b[0m      (\u001b[39mself\u001b[39m\u001b[39m.\u001b[39mtoolbar\u001b[39m.\u001b[39m_wait_cursor_for_draw_cm() \u001b[39mif\u001b[39;00m \u001b[39mself\u001b[39m\u001b[39m.\u001b[39mtoolbar\n\u001b[1;32m    435\u001b[0m       \u001b[39melse\u001b[39;00m nullcontext()):\n\u001b[0;32m--> 436\u001b[0m     \u001b[39mself\u001b[39;49m\u001b[39m.\u001b[39;49mfigure\u001b[39m.\u001b[39;49mdraw(\u001b[39mself\u001b[39;49m\u001b[39m.\u001b[39;49mrenderer)\n\u001b[1;32m    437\u001b[0m     \u001b[39m# A GUI class may be need to update a window using this draw, so\u001b[39;00m\n\u001b[1;32m    438\u001b[0m     \u001b[39m# don't forget to call the superclass.\u001b[39;00m\n\u001b[1;32m    439\u001b[0m     \u001b[39msuper\u001b[39m()\u001b[39m.\u001b[39mdraw()\n",
      "File \u001b[0;32m~/miniconda3/lib/python3.8/site-packages/matplotlib/artist.py:73\u001b[0m, in \u001b[0;36m_finalize_rasterization.<locals>.draw_wrapper\u001b[0;34m(artist, renderer, *args, **kwargs)\u001b[0m\n\u001b[1;32m     71\u001b[0m \u001b[39m@wraps\u001b[39m(draw)\n\u001b[1;32m     72\u001b[0m \u001b[39mdef\u001b[39;00m \u001b[39mdraw_wrapper\u001b[39m(artist, renderer, \u001b[39m*\u001b[39margs, \u001b[39m*\u001b[39m\u001b[39m*\u001b[39mkwargs):\n\u001b[0;32m---> 73\u001b[0m     result \u001b[39m=\u001b[39m draw(artist, renderer, \u001b[39m*\u001b[39;49margs, \u001b[39m*\u001b[39;49m\u001b[39m*\u001b[39;49mkwargs)\n\u001b[1;32m     74\u001b[0m     \u001b[39mif\u001b[39;00m renderer\u001b[39m.\u001b[39m_rasterizing:\n\u001b[1;32m     75\u001b[0m         renderer\u001b[39m.\u001b[39mstop_rasterizing()\n",
      "File \u001b[0;32m~/miniconda3/lib/python3.8/site-packages/matplotlib/artist.py:50\u001b[0m, in \u001b[0;36mallow_rasterization.<locals>.draw_wrapper\u001b[0;34m(artist, renderer)\u001b[0m\n\u001b[1;32m     47\u001b[0m     \u001b[39mif\u001b[39;00m artist\u001b[39m.\u001b[39mget_agg_filter() \u001b[39mis\u001b[39;00m \u001b[39mnot\u001b[39;00m \u001b[39mNone\u001b[39;00m:\n\u001b[1;32m     48\u001b[0m         renderer\u001b[39m.\u001b[39mstart_filter()\n\u001b[0;32m---> 50\u001b[0m     \u001b[39mreturn\u001b[39;00m draw(artist, renderer)\n\u001b[1;32m     51\u001b[0m \u001b[39mfinally\u001b[39;00m:\n\u001b[1;32m     52\u001b[0m     \u001b[39mif\u001b[39;00m artist\u001b[39m.\u001b[39mget_agg_filter() \u001b[39mis\u001b[39;00m \u001b[39mnot\u001b[39;00m \u001b[39mNone\u001b[39;00m:\n",
      "File \u001b[0;32m~/miniconda3/lib/python3.8/site-packages/matplotlib/figure.py:2810\u001b[0m, in \u001b[0;36mFigure.draw\u001b[0;34m(self, renderer)\u001b[0m\n\u001b[1;32m   2807\u001b[0m         \u001b[39m# ValueError can occur when resizing a window.\u001b[39;00m\n\u001b[1;32m   2809\u001b[0m \u001b[39mself\u001b[39m\u001b[39m.\u001b[39mpatch\u001b[39m.\u001b[39mdraw(renderer)\n\u001b[0;32m-> 2810\u001b[0m mimage\u001b[39m.\u001b[39;49m_draw_list_compositing_images(\n\u001b[1;32m   2811\u001b[0m     renderer, \u001b[39mself\u001b[39;49m, artists, \u001b[39mself\u001b[39;49m\u001b[39m.\u001b[39;49msuppressComposite)\n\u001b[1;32m   2813\u001b[0m \u001b[39mfor\u001b[39;00m sfig \u001b[39min\u001b[39;00m \u001b[39mself\u001b[39m\u001b[39m.\u001b[39msubfigs:\n\u001b[1;32m   2814\u001b[0m     sfig\u001b[39m.\u001b[39mdraw(renderer)\n",
      "File \u001b[0;32m~/miniconda3/lib/python3.8/site-packages/matplotlib/image.py:132\u001b[0m, in \u001b[0;36m_draw_list_compositing_images\u001b[0;34m(renderer, parent, artists, suppress_composite)\u001b[0m\n\u001b[1;32m    130\u001b[0m \u001b[39mif\u001b[39;00m not_composite \u001b[39mor\u001b[39;00m \u001b[39mnot\u001b[39;00m has_images:\n\u001b[1;32m    131\u001b[0m     \u001b[39mfor\u001b[39;00m a \u001b[39min\u001b[39;00m artists:\n\u001b[0;32m--> 132\u001b[0m         a\u001b[39m.\u001b[39;49mdraw(renderer)\n\u001b[1;32m    133\u001b[0m \u001b[39melse\u001b[39;00m:\n\u001b[1;32m    134\u001b[0m     \u001b[39m# Composite any adjacent images together\u001b[39;00m\n\u001b[1;32m    135\u001b[0m     image_group \u001b[39m=\u001b[39m []\n",
      "File \u001b[0;32m~/miniconda3/lib/python3.8/site-packages/matplotlib/artist.py:50\u001b[0m, in \u001b[0;36mallow_rasterization.<locals>.draw_wrapper\u001b[0;34m(artist, renderer)\u001b[0m\n\u001b[1;32m     47\u001b[0m     \u001b[39mif\u001b[39;00m artist\u001b[39m.\u001b[39mget_agg_filter() \u001b[39mis\u001b[39;00m \u001b[39mnot\u001b[39;00m \u001b[39mNone\u001b[39;00m:\n\u001b[1;32m     48\u001b[0m         renderer\u001b[39m.\u001b[39mstart_filter()\n\u001b[0;32m---> 50\u001b[0m     \u001b[39mreturn\u001b[39;00m draw(artist, renderer)\n\u001b[1;32m     51\u001b[0m \u001b[39mfinally\u001b[39;00m:\n\u001b[1;32m     52\u001b[0m     \u001b[39mif\u001b[39;00m artist\u001b[39m.\u001b[39mget_agg_filter() \u001b[39mis\u001b[39;00m \u001b[39mnot\u001b[39;00m \u001b[39mNone\u001b[39;00m:\n",
      "File \u001b[0;32m~/miniconda3/lib/python3.8/site-packages/matplotlib/axes/_base.py:3082\u001b[0m, in \u001b[0;36m_AxesBase.draw\u001b[0;34m(self, renderer)\u001b[0m\n\u001b[1;32m   3079\u001b[0m         a\u001b[39m.\u001b[39mdraw(renderer)\n\u001b[1;32m   3080\u001b[0m     renderer\u001b[39m.\u001b[39mstop_rasterizing()\n\u001b[0;32m-> 3082\u001b[0m mimage\u001b[39m.\u001b[39;49m_draw_list_compositing_images(\n\u001b[1;32m   3083\u001b[0m     renderer, \u001b[39mself\u001b[39;49m, artists, \u001b[39mself\u001b[39;49m\u001b[39m.\u001b[39;49mfigure\u001b[39m.\u001b[39;49msuppressComposite)\n\u001b[1;32m   3085\u001b[0m renderer\u001b[39m.\u001b[39mclose_group(\u001b[39m'\u001b[39m\u001b[39maxes\u001b[39m\u001b[39m'\u001b[39m)\n\u001b[1;32m   3086\u001b[0m \u001b[39mself\u001b[39m\u001b[39m.\u001b[39mstale \u001b[39m=\u001b[39m \u001b[39mFalse\u001b[39;00m\n",
      "File \u001b[0;32m~/miniconda3/lib/python3.8/site-packages/matplotlib/image.py:132\u001b[0m, in \u001b[0;36m_draw_list_compositing_images\u001b[0;34m(renderer, parent, artists, suppress_composite)\u001b[0m\n\u001b[1;32m    130\u001b[0m \u001b[39mif\u001b[39;00m not_composite \u001b[39mor\u001b[39;00m \u001b[39mnot\u001b[39;00m has_images:\n\u001b[1;32m    131\u001b[0m     \u001b[39mfor\u001b[39;00m a \u001b[39min\u001b[39;00m artists:\n\u001b[0;32m--> 132\u001b[0m         a\u001b[39m.\u001b[39;49mdraw(renderer)\n\u001b[1;32m    133\u001b[0m \u001b[39melse\u001b[39;00m:\n\u001b[1;32m    134\u001b[0m     \u001b[39m# Composite any adjacent images together\u001b[39;00m\n\u001b[1;32m    135\u001b[0m     image_group \u001b[39m=\u001b[39m []\n",
      "File \u001b[0;32m~/miniconda3/lib/python3.8/site-packages/matplotlib/artist.py:50\u001b[0m, in \u001b[0;36mallow_rasterization.<locals>.draw_wrapper\u001b[0;34m(artist, renderer)\u001b[0m\n\u001b[1;32m     47\u001b[0m     \u001b[39mif\u001b[39;00m artist\u001b[39m.\u001b[39mget_agg_filter() \u001b[39mis\u001b[39;00m \u001b[39mnot\u001b[39;00m \u001b[39mNone\u001b[39;00m:\n\u001b[1;32m     48\u001b[0m         renderer\u001b[39m.\u001b[39mstart_filter()\n\u001b[0;32m---> 50\u001b[0m     \u001b[39mreturn\u001b[39;00m draw(artist, renderer)\n\u001b[1;32m     51\u001b[0m \u001b[39mfinally\u001b[39;00m:\n\u001b[1;32m     52\u001b[0m     \u001b[39mif\u001b[39;00m artist\u001b[39m.\u001b[39mget_agg_filter() \u001b[39mis\u001b[39;00m \u001b[39mnot\u001b[39;00m \u001b[39mNone\u001b[39;00m:\n",
      "File \u001b[0;32m~/miniconda3/lib/python3.8/site-packages/matplotlib/axis.py:1163\u001b[0m, in \u001b[0;36mAxis.draw\u001b[0;34m(self, renderer, *args, **kwargs)\u001b[0m\n\u001b[1;32m   1159\u001b[0m ticklabelBoxes, ticklabelBoxes2 \u001b[39m=\u001b[39m \u001b[39mself\u001b[39m\u001b[39m.\u001b[39m_get_tick_bboxes(ticks_to_draw,\n\u001b[1;32m   1160\u001b[0m                                                         renderer)\n\u001b[1;32m   1162\u001b[0m \u001b[39mfor\u001b[39;00m tick \u001b[39min\u001b[39;00m ticks_to_draw:\n\u001b[0;32m-> 1163\u001b[0m     tick\u001b[39m.\u001b[39;49mdraw(renderer)\n\u001b[1;32m   1165\u001b[0m \u001b[39m# scale up the axis label box to also find the neighbors, not\u001b[39;00m\n\u001b[1;32m   1166\u001b[0m \u001b[39m# just the tick labels that actually overlap note we need a\u001b[39;00m\n\u001b[1;32m   1167\u001b[0m \u001b[39m# *copy* of the axis label box because we don't want to scale\u001b[39;00m\n\u001b[1;32m   1168\u001b[0m \u001b[39m# the actual bbox\u001b[39;00m\n\u001b[1;32m   1170\u001b[0m \u001b[39mself\u001b[39m\u001b[39m.\u001b[39m_update_label_position(renderer)\n",
      "File \u001b[0;32m~/miniconda3/lib/python3.8/site-packages/matplotlib/artist.py:50\u001b[0m, in \u001b[0;36mallow_rasterization.<locals>.draw_wrapper\u001b[0;34m(artist, renderer)\u001b[0m\n\u001b[1;32m     47\u001b[0m     \u001b[39mif\u001b[39;00m artist\u001b[39m.\u001b[39mget_agg_filter() \u001b[39mis\u001b[39;00m \u001b[39mnot\u001b[39;00m \u001b[39mNone\u001b[39;00m:\n\u001b[1;32m     48\u001b[0m         renderer\u001b[39m.\u001b[39mstart_filter()\n\u001b[0;32m---> 50\u001b[0m     \u001b[39mreturn\u001b[39;00m draw(artist, renderer)\n\u001b[1;32m     51\u001b[0m \u001b[39mfinally\u001b[39;00m:\n\u001b[1;32m     52\u001b[0m     \u001b[39mif\u001b[39;00m artist\u001b[39m.\u001b[39mget_agg_filter() \u001b[39mis\u001b[39;00m \u001b[39mnot\u001b[39;00m \u001b[39mNone\u001b[39;00m:\n",
      "File \u001b[0;32m~/miniconda3/lib/python3.8/site-packages/matplotlib/axis.py:299\u001b[0m, in \u001b[0;36mTick.draw\u001b[0;34m(self, renderer)\u001b[0m\n\u001b[1;32m    296\u001b[0m renderer\u001b[39m.\u001b[39mopen_group(\u001b[39mself\u001b[39m\u001b[39m.\u001b[39m\u001b[39m__name__\u001b[39m, gid\u001b[39m=\u001b[39m\u001b[39mself\u001b[39m\u001b[39m.\u001b[39mget_gid())\n\u001b[1;32m    297\u001b[0m \u001b[39mfor\u001b[39;00m artist \u001b[39min\u001b[39;00m [\u001b[39mself\u001b[39m\u001b[39m.\u001b[39mgridline, \u001b[39mself\u001b[39m\u001b[39m.\u001b[39mtick1line, \u001b[39mself\u001b[39m\u001b[39m.\u001b[39mtick2line,\n\u001b[1;32m    298\u001b[0m                \u001b[39mself\u001b[39m\u001b[39m.\u001b[39mlabel1, \u001b[39mself\u001b[39m\u001b[39m.\u001b[39mlabel2]:\n\u001b[0;32m--> 299\u001b[0m     artist\u001b[39m.\u001b[39;49mdraw(renderer)\n\u001b[1;32m    300\u001b[0m renderer\u001b[39m.\u001b[39mclose_group(\u001b[39mself\u001b[39m\u001b[39m.\u001b[39m\u001b[39m__name__\u001b[39m)\n\u001b[1;32m    301\u001b[0m \u001b[39mself\u001b[39m\u001b[39m.\u001b[39mstale \u001b[39m=\u001b[39m \u001b[39mFalse\u001b[39;00m\n",
      "File \u001b[0;32m~/miniconda3/lib/python3.8/site-packages/matplotlib/artist.py:50\u001b[0m, in \u001b[0;36mallow_rasterization.<locals>.draw_wrapper\u001b[0;34m(artist, renderer)\u001b[0m\n\u001b[1;32m     47\u001b[0m     \u001b[39mif\u001b[39;00m artist\u001b[39m.\u001b[39mget_agg_filter() \u001b[39mis\u001b[39;00m \u001b[39mnot\u001b[39;00m \u001b[39mNone\u001b[39;00m:\n\u001b[1;32m     48\u001b[0m         renderer\u001b[39m.\u001b[39mstart_filter()\n\u001b[0;32m---> 50\u001b[0m     \u001b[39mreturn\u001b[39;00m draw(artist, renderer)\n\u001b[1;32m     51\u001b[0m \u001b[39mfinally\u001b[39;00m:\n\u001b[1;32m     52\u001b[0m     \u001b[39mif\u001b[39;00m artist\u001b[39m.\u001b[39mget_agg_filter() \u001b[39mis\u001b[39;00m \u001b[39mnot\u001b[39;00m \u001b[39mNone\u001b[39;00m:\n",
      "File \u001b[0;32m~/miniconda3/lib/python3.8/site-packages/matplotlib/lines.py:815\u001b[0m, in \u001b[0;36mLine2D.draw\u001b[0;34m(self, renderer)\u001b[0m\n\u001b[1;32m    812\u001b[0m         tpath, affine \u001b[39m=\u001b[39m (\u001b[39mself\u001b[39m\u001b[39m.\u001b[39m_get_transformed_path()\n\u001b[1;32m    813\u001b[0m                          \u001b[39m.\u001b[39mget_transformed_points_and_affine())\n\u001b[1;32m    814\u001b[0m \u001b[39melse\u001b[39;00m:\n\u001b[0;32m--> 815\u001b[0m     tpath, affine \u001b[39m=\u001b[39m (\u001b[39mself\u001b[39;49m\u001b[39m.\u001b[39;49m_get_transformed_path()\n\u001b[1;32m    816\u001b[0m                      \u001b[39m.\u001b[39;49mget_transformed_points_and_affine())\n\u001b[1;32m    818\u001b[0m \u001b[39mif\u001b[39;00m \u001b[39mlen\u001b[39m(tpath\u001b[39m.\u001b[39mvertices):\n\u001b[1;32m    819\u001b[0m     \u001b[39m# subsample the markers if markevery is not None\u001b[39;00m\n\u001b[1;32m    820\u001b[0m     markevery \u001b[39m=\u001b[39m \u001b[39mself\u001b[39m\u001b[39m.\u001b[39mget_markevery()\n",
      "File \u001b[0;32m~/miniconda3/lib/python3.8/site-packages/matplotlib/transforms.py:2777\u001b[0m, in \u001b[0;36mTransformedPath.get_transformed_points_and_affine\u001b[0;34m(self)\u001b[0m\n\u001b[1;32m   2769\u001b[0m \u001b[39mdef\u001b[39;00m \u001b[39mget_transformed_points_and_affine\u001b[39m(\u001b[39mself\u001b[39m):\n\u001b[1;32m   2770\u001b[0m     \u001b[39m\"\"\"\u001b[39;00m\n\u001b[1;32m   2771\u001b[0m \u001b[39m    Return a copy of the child path, with the non-affine part of\u001b[39;00m\n\u001b[1;32m   2772\u001b[0m \u001b[39m    the transform already applied, along with the affine part of\u001b[39;00m\n\u001b[0;32m   (...)\u001b[0m\n\u001b[1;32m   2775\u001b[0m \u001b[39m    be performed.\u001b[39;00m\n\u001b[1;32m   2776\u001b[0m \u001b[39m    \"\"\"\u001b[39;00m\n\u001b[0;32m-> 2777\u001b[0m     \u001b[39mself\u001b[39;49m\u001b[39m.\u001b[39;49m_revalidate()\n\u001b[1;32m   2778\u001b[0m     \u001b[39mreturn\u001b[39;00m \u001b[39mself\u001b[39m\u001b[39m.\u001b[39m_transformed_points, \u001b[39mself\u001b[39m\u001b[39m.\u001b[39mget_affine()\n",
      "File \u001b[0;32m~/miniconda3/lib/python3.8/site-packages/matplotlib/transforms.py:2759\u001b[0m, in \u001b[0;36mTransformedPath._revalidate\u001b[0;34m(self)\u001b[0m\n\u001b[1;32m   2756\u001b[0m \u001b[39mdef\u001b[39;00m \u001b[39m_revalidate\u001b[39m(\u001b[39mself\u001b[39m):\n\u001b[1;32m   2757\u001b[0m     \u001b[39m# only recompute if the invalidation includes the non_affine part of\u001b[39;00m\n\u001b[1;32m   2758\u001b[0m     \u001b[39m# the transform\u001b[39;00m\n\u001b[0;32m-> 2759\u001b[0m     \u001b[39mif\u001b[39;00m (\u001b[39mself\u001b[39m\u001b[39m.\u001b[39m_invalid \u001b[39m&\u001b[39m \u001b[39mself\u001b[39m\u001b[39m.\u001b[39mINVALID_NON_AFFINE \u001b[39m==\u001b[39m \u001b[39mself\u001b[39;49m\u001b[39m.\u001b[39;49mINVALID_NON_AFFINE\n\u001b[1;32m   2760\u001b[0m             \u001b[39mor\u001b[39;00m \u001b[39mself\u001b[39m\u001b[39m.\u001b[39m_transformed_path \u001b[39mis\u001b[39;00m \u001b[39mNone\u001b[39;00m):\n\u001b[1;32m   2761\u001b[0m         \u001b[39mself\u001b[39m\u001b[39m.\u001b[39m_transformed_path \u001b[39m=\u001b[39m \\\n\u001b[1;32m   2762\u001b[0m             \u001b[39mself\u001b[39m\u001b[39m.\u001b[39m_transform\u001b[39m.\u001b[39mtransform_path_non_affine(\u001b[39mself\u001b[39m\u001b[39m.\u001b[39m_path)\n\u001b[1;32m   2763\u001b[0m         \u001b[39mself\u001b[39m\u001b[39m.\u001b[39m_transformed_points \u001b[39m=\u001b[39m \\\n\u001b[1;32m   2764\u001b[0m             Path\u001b[39m.\u001b[39m_fast_from_codes_and_verts(\n\u001b[1;32m   2765\u001b[0m                 \u001b[39mself\u001b[39m\u001b[39m.\u001b[39m_transform\u001b[39m.\u001b[39mtransform_non_affine(\u001b[39mself\u001b[39m\u001b[39m.\u001b[39m_path\u001b[39m.\u001b[39mvertices),\n\u001b[1;32m   2766\u001b[0m                 \u001b[39mNone\u001b[39;00m, \u001b[39mself\u001b[39m\u001b[39m.\u001b[39m_path)\n",
      "\u001b[0;31mKeyboardInterrupt\u001b[0m: "
     ]
    },
    {
     "data": {
      "image/png": "[encoded data removed]",
      "text/plain": [
       "<Figure size 1296x720 with 6 Axes>"
      ]
     },
     "metadata": {
      "needs_background": "light"
     },
     "output_type": "display_data"
    }
   ],
   "source": [
    "NX = 45\n",
    "NY = 45\n",
    "DT = 360.\n",
    "lon = np.loadtxt(\"../outputs/grid/lon.txt\").reshape(6, NX, NY) * 180. / np.pi\n",
    "lat = np.loadtxt(\"../outputs/grid/lat.txt\").reshape(6, NX, NY) * 180. / np.pi\n",
    "\n",
    "x = np.loadtxt(\"../outputs/grid/x.txt\").reshape(6, NX, NY)\n",
    "y = np.loadtxt(\"../outputs/grid/y.txt\").reshape(6, NX, NY)\n",
    "\n",
    "count = 0\n",
    "h = np.zeros([6, NX, NY])\n",
    "for t in range(0, 6000, 10):\n",
    "    h = np.loadtxt(f\"../outputs/h/h_{t*10}.txt\").reshape(6, NX, NY)\n",
    "\n",
    "    fig = plt.figure(figsize=(18,10))\n",
    "    ax5 = fig.add_subplot(3,4,2)\n",
    "    ax4 = fig.add_subplot(3,4,5)\n",
    "    ax1 = fig.add_subplot(3,4,6)\n",
    "    ax2 = fig.add_subplot(3,4,7)\n",
    "    ax3 = fig.add_subplot(3,4,8)\n",
    "    ax6 = fig.add_subplot(3,4,10)\n",
    "    ax5.set_title(f\"t = {t * 10 * DT / 60} min\", fontsize=14)\n",
    "\n",
    "    ax1.contourf(x[0], y[0], h[0], levels=np.linspace(-120, 120, 13), extend='both')\n",
    "    ax2.contourf(x[1], y[1], h[1], levels=np.linspace(-120, 120, 13), extend='both')\n",
    "    ax3.contourf(x[2], y[2], h[2], levels=np.linspace(-120, 120, 13), extend='both')\n",
    "    ax4.contourf(x[3], y[3], h[3], levels=np.linspace(-120, 120, 13), extend='both')\n",
    "    ax5.contourf(x[4], y[4], h[4], levels=np.linspace(-120, 120, 13), extend='both')\n",
    "    ax6.contourf(x[5], y[5], h[5], levels=np.linspace(-120, 120, 13), extend='both')\n",
    "\n",
    "    plt.savefig(f\"../graphs/h/curvilinear/{count}.png\", dpi=150)\n",
    "    plt.close()\n",
    "    count += 1"
   ]
  },
  {
   "cell_type": "markdown",
   "metadata": {},
   "source": [
    "## Geostrophy"
   ]
  },
  {
   "cell_type": "markdown",
   "metadata": {},
   "source": [
    "### Sphere"
   ]
  },
  {
   "cell_type": "code",
   "execution_count": 15,
   "metadata": {},
   "outputs": [
    {
     "ename": "OSError",
     "evalue": "../outputs/h/h_35200.txt not found.",
     "output_type": "error",
     "traceback": [
      "\u001b[0;31m---------------------------------------------------------------------------\u001b[0m",
      "\u001b[0;31mOSError\u001b[0m                                   Traceback (most recent call last)",
      "\u001b[1;32m/Users/Aaron/CSWM/src/plot.ipynb Cell 11\u001b[0m in \u001b[0;36m<cell line: 14>\u001b[0;34m()\u001b[0m\n\u001b[1;32m     <a href='vscode-notebook-cell:/Users/Aaron/CSWM/src/plot.ipynb#ch0000010?line=12'>13</a>\u001b[0m leap \u001b[39m=\u001b[39m \u001b[39m80\u001b[39m\n\u001b[1;32m     <a href='vscode-notebook-cell:/Users/Aaron/CSWM/src/plot.ipynb#ch0000010?line=13'>14</a>\u001b[0m \u001b[39mfor\u001b[39;00m t \u001b[39min\u001b[39;00m \u001b[39mrange\u001b[39m(\u001b[39m0\u001b[39m, \u001b[39m6000\u001b[39m, \u001b[39m10\u001b[39m):\n\u001b[0;32m---> <a href='vscode-notebook-cell:/Users/Aaron/CSWM/src/plot.ipynb#ch0000010?line=15'>16</a>\u001b[0m     h \u001b[39m=\u001b[39m np\u001b[39m.\u001b[39;49mloadtxt(\u001b[39mf\u001b[39;49m\u001b[39m\"\u001b[39;49m\u001b[39m../outputs/h/h_\u001b[39;49m\u001b[39m{\u001b[39;49;00mt\u001b[39m*\u001b[39;49mleap\u001b[39m}\u001b[39;49;00m\u001b[39m.txt\u001b[39;49m\u001b[39m\"\u001b[39;49m)\u001b[39m.\u001b[39mreshape(\u001b[39m6\u001b[39m, NX, NY)\n\u001b[1;32m     <a href='vscode-notebook-cell:/Users/Aaron/CSWM/src/plot.ipynb#ch0000010?line=16'>17</a>\u001b[0m     u \u001b[39m=\u001b[39m np\u001b[39m.\u001b[39mloadtxt(\u001b[39mf\u001b[39m\u001b[39m\"\u001b[39m\u001b[39m../outputs/u_lon_lat/u_lon_lat_\u001b[39m\u001b[39m{\u001b[39;00mt\u001b[39m*\u001b[39mleap\u001b[39m}\u001b[39;00m\u001b[39m.txt\u001b[39m\u001b[39m\"\u001b[39m)\u001b[39m.\u001b[39mreshape(\u001b[39m6\u001b[39m, NX, NY)\n\u001b[1;32m     <a href='vscode-notebook-cell:/Users/Aaron/CSWM/src/plot.ipynb#ch0000010?line=17'>18</a>\u001b[0m     v \u001b[39m=\u001b[39m np\u001b[39m.\u001b[39mloadtxt(\u001b[39mf\u001b[39m\u001b[39m\"\u001b[39m\u001b[39m../outputs/v_lon_lat/v_lon_lat_\u001b[39m\u001b[39m{\u001b[39;00mt\u001b[39m*\u001b[39mleap\u001b[39m}\u001b[39;00m\u001b[39m.txt\u001b[39m\u001b[39m\"\u001b[39m)\u001b[39m.\u001b[39mreshape(\u001b[39m6\u001b[39m, NX, NY)\n",
      "File \u001b[0;32m~/miniconda3/lib/python3.8/site-packages/numpy/lib/npyio.py:1067\u001b[0m, in \u001b[0;36mloadtxt\u001b[0;34m(fname, dtype, comments, delimiter, converters, skiprows, usecols, unpack, ndmin, encoding, max_rows, like)\u001b[0m\n\u001b[1;32m   1065\u001b[0m     fname \u001b[39m=\u001b[39m os_fspath(fname)\n\u001b[1;32m   1066\u001b[0m \u001b[39mif\u001b[39;00m _is_string_like(fname):\n\u001b[0;32m-> 1067\u001b[0m     fh \u001b[39m=\u001b[39m np\u001b[39m.\u001b[39;49mlib\u001b[39m.\u001b[39;49m_datasource\u001b[39m.\u001b[39;49mopen(fname, \u001b[39m'\u001b[39;49m\u001b[39mrt\u001b[39;49m\u001b[39m'\u001b[39;49m, encoding\u001b[39m=\u001b[39;49mencoding)\n\u001b[1;32m   1068\u001b[0m     fencoding \u001b[39m=\u001b[39m \u001b[39mgetattr\u001b[39m(fh, \u001b[39m'\u001b[39m\u001b[39mencoding\u001b[39m\u001b[39m'\u001b[39m, \u001b[39m'\u001b[39m\u001b[39mlatin1\u001b[39m\u001b[39m'\u001b[39m)\n\u001b[1;32m   1069\u001b[0m     fh \u001b[39m=\u001b[39m \u001b[39miter\u001b[39m(fh)\n",
      "File \u001b[0;32m~/miniconda3/lib/python3.8/site-packages/numpy/lib/_datasource.py:193\u001b[0m, in \u001b[0;36mopen\u001b[0;34m(path, mode, destpath, encoding, newline)\u001b[0m\n\u001b[1;32m    156\u001b[0m \u001b[39m\"\"\"\u001b[39;00m\n\u001b[1;32m    157\u001b[0m \u001b[39mOpen `path` with `mode` and return the file object.\u001b[39;00m\n\u001b[1;32m    158\u001b[0m \n\u001b[0;32m   (...)\u001b[0m\n\u001b[1;32m    189\u001b[0m \n\u001b[1;32m    190\u001b[0m \u001b[39m\"\"\"\u001b[39;00m\n\u001b[1;32m    192\u001b[0m ds \u001b[39m=\u001b[39m DataSource(destpath)\n\u001b[0;32m--> 193\u001b[0m \u001b[39mreturn\u001b[39;00m ds\u001b[39m.\u001b[39;49mopen(path, mode, encoding\u001b[39m=\u001b[39;49mencoding, newline\u001b[39m=\u001b[39;49mnewline)\n",
      "File \u001b[0;32m~/miniconda3/lib/python3.8/site-packages/numpy/lib/_datasource.py:533\u001b[0m, in \u001b[0;36mDataSource.open\u001b[0;34m(self, path, mode, encoding, newline)\u001b[0m\n\u001b[1;32m    530\u001b[0m     \u001b[39mreturn\u001b[39;00m _file_openers[ext](found, mode\u001b[39m=\u001b[39mmode,\n\u001b[1;32m    531\u001b[0m                               encoding\u001b[39m=\u001b[39mencoding, newline\u001b[39m=\u001b[39mnewline)\n\u001b[1;32m    532\u001b[0m \u001b[39melse\u001b[39;00m:\n\u001b[0;32m--> 533\u001b[0m     \u001b[39mraise\u001b[39;00m \u001b[39mIOError\u001b[39;00m(\u001b[39m\"\u001b[39m\u001b[39m%s\u001b[39;00m\u001b[39m not found.\u001b[39m\u001b[39m\"\u001b[39m \u001b[39m%\u001b[39m path)\n",
      "\u001b[0;31mOSError\u001b[0m: ../outputs/h/h_35200.txt not found."
     ]
    }
   ],
   "source": [
    "NX = 45\n",
    "NY = 45\n",
    "DT = 360.\n",
    "# DT = 100\n",
    "lon = np.loadtxt(\"../outputs/grid/lon.txt\").reshape(6, NX, NY) * 180. / np.pi\n",
    "lat = np.loadtxt(\"../outputs/grid/lat.txt\").reshape(6, NX, NY) * 180. / np.pi\n",
    "\n",
    "x = np.loadtxt(\"../outputs/grid/x.txt\").reshape(6, NX, NY)\n",
    "y = np.loadtxt(\"../outputs/grid/y.txt\").reshape(6, NX, NY)\n",
    "\n",
    "count = 0\n",
    "h = np.zeros([6, NX, NY])\n",
    "leap = 80\n",
    "for t in range(0, 6000, 10):\n",
    "\n",
    "    h = np.loadtxt(f\"../outputs/h/h_{t*leap}.txt\").reshape(6, NX, NY)\n",
    "    u = np.loadtxt(f\"../outputs/u_lon_lat/u_lon_lat_{t*leap}.txt\").reshape(6, NX, NY)\n",
    "    v = np.loadtxt(f\"../outputs/v_lon_lat/v_lon_lat_{t*leap}.txt\").reshape(6, NX, NY)\n",
    "\n",
    "    plt.figure(figsize=(18,8))\n",
    "    plt.xlabel(\"LON\")\n",
    "    plt.ylabel(\"LAT\")\n",
    "    plt.title(f\"t = {t * leap * DT / 60} min\", fontsize=14)\n",
    "\n",
    "    plt.contourf(lon[0], lat[0], h[0], levels=np.linspace(-1, 1, 9), extend='both')\n",
    "    plt.contourf(lon[1], lat[1], h[1], levels=np.linspace(-1, 1, 9), extend='both')\n",
    "    plt.contourf(lon[2, 0:NX//2, :], lat[2, 0:NX//2, :], h[2, 0:NX//2, :], levels=np.linspace(-1, 1, 9), extend='both')\n",
    "    plt.contourf(lon[2, NX//2:, :]-360, lat[2, NX//2:, :], h[2, NX//2:, :], levels=np.linspace(-1, 1, 9), extend='both')\n",
    "    plt.contourf(lon[3]-360, lat[3], h[3], levels=np.linspace(-1, 1, 9), extend='both')\n",
    "    plt.contourf(lon[4], lat[4], h[4], levels=np.linspace(-1, 1, 9), extend='both')\n",
    "    plt.contourf(lon[5], lat[5], h[5], levels=np.linspace(-1, 1, 9), extend='both')\n",
    "    cbar = plt.colorbar(pad=0.05)\n",
    "    cbar.set_ticks(np.linspace(-1, 1, 9))\n",
    "\n",
    "    # plt.contourf(lon[0], lat[0], h[0], extend='both')\n",
    "    # plt.contourf(lon[1], lat[1], h[1], extend='both')\n",
    "    # plt.contourf(lon[2, 0:NX//2, :], lat[2, 0:NX//2, :], h[2, 0:NX//2, :], extend='both')\n",
    "    # plt.contourf(lon[2, NX//2:, :]-360, lat[2, NX//2:, :], h[2, NX//2:, :], extend='both')\n",
    "    # plt.contourf(lon[3]-360, lat[3], h[3], extend='both')\n",
    "    # plt.contourf(lon[4], lat[4], h[4], extend='both')\n",
    "    # plt.contourf(lon[5], lat[5], h[5], extend='both')\n",
    "    # cbar = plt.colorbar(pad=0.05)\n",
    "    # cbar.set_ticks(np.linspace(-12, 12, 13))\n",
    "\n",
    "    plt.quiver(lon[0][::2, ::2], lat[0][::2, ::2], u[0][::2, ::2], v[0][::2, ::2], angles='xy', units=\"width\", scale=100)\n",
    "    plt.quiver(lon[1][::2, ::2], lat[1][::2, ::2], u[1][::2, ::2], v[1][::2, ::2], angles='xy', units=\"width\", scale=100)\n",
    "    plt.quiver(lon[2, 0:NX//2, :][::2, ::2], lat[2, 0:NX//2, :][::2, ::2], u[2, 0:NX//2, :][::2, ::2], v[2, 0:NX//2, :][::2, ::2], angles='xy', units=\"width\", scale=100)\n",
    "    plt.quiver(lon[2, NX//2:, :][::2, ::2]-360, lat[2, NX//2:, :][::2, ::2], u[2, NX//2:, :][::2, ::2], v[2, NX//2:, :][::2, ::2], angles='xy', units=\"width\", scale=100)\n",
    "    plt.quiver(lon[3][::2, ::2]-360, lat[3][::2, ::2], u[3][::2, ::2], v[3][::2, ::2], angles='xy', units=\"width\", scale=100)\n",
    "    plt.quiver(lon[4][::2, ::2], lat[4][::2, ::2], u[4][::2, ::2], v[4][::2, ::2], angles='xy', units=\"width\", scale=100)\n",
    "    Q = plt.quiver(lon[5][::2, ::2], lat[5][::2, ::2], u[5][::2, ::2], v[5][::2, ::2], angles='xy', units=\"width\", scale=100)\n",
    "    qk = plt.quiverkey(Q, 0.7, 0.9, 0.5, r'$5 \\frac{m}{s}$', labelpos='E', coordinates='figure')\n",
    "\n",
    "    plt.savefig(f\"../graphs/h/sphere/{count}.png\", dpi=150)\n",
    "    plt.close()\n",
    "    count += 1\n"
   ]
  },
  {
   "cell_type": "markdown",
   "metadata": {},
   "source": [
    "### Curvilinear"
   ]
  },
  {
   "cell_type": "code",
   "execution_count": 16,
   "metadata": {},
   "outputs": [
    {
     "ename": "KeyboardInterrupt",
     "evalue": "",
     "output_type": "error",
     "traceback": [
      "\u001b[0;31m---------------------------------------------------------------------------\u001b[0m",
      "\u001b[0;31mKeyboardInterrupt\u001b[0m                         Traceback (most recent call last)",
      "\u001b[1;32m/Users/Aaron/CSWM/src/plot.ipynb Cell 13\u001b[0m in \u001b[0;36m<cell line: 13>\u001b[0;34m()\u001b[0m\n\u001b[1;32m     <a href='vscode-notebook-cell:/Users/Aaron/CSWM/src/plot.ipynb#ch0000012?line=51'>52</a>\u001b[0m ax5\u001b[39m.\u001b[39mquiverkey(Q, \u001b[39m0.7\u001b[39m, \u001b[39m0.9\u001b[39m, \u001b[39m0.5\u001b[39m, \u001b[39mr\u001b[39m\u001b[39m'\u001b[39m\u001b[39m$0.5 \u001b[39m\u001b[39m\\\u001b[39m\u001b[39mfrac\u001b[39m\u001b[39m{m}\u001b[39;00m\u001b[39m{s}\u001b[39;00m\u001b[39m$\u001b[39m\u001b[39m'\u001b[39m, labelpos\u001b[39m=\u001b[39m\u001b[39m'\u001b[39m\u001b[39mE\u001b[39m\u001b[39m'\u001b[39m, coordinates\u001b[39m=\u001b[39m\u001b[39m'\u001b[39m\u001b[39mfigure\u001b[39m\u001b[39m'\u001b[39m)  \n\u001b[1;32m     <a href='vscode-notebook-cell:/Users/Aaron/CSWM/src/plot.ipynb#ch0000012?line=52'>53</a>\u001b[0m ax6\u001b[39m.\u001b[39mquiverkey(Q, \u001b[39m0.7\u001b[39m, \u001b[39m0.9\u001b[39m, \u001b[39m0.5\u001b[39m, \u001b[39mr\u001b[39m\u001b[39m'\u001b[39m\u001b[39m$0.5 \u001b[39m\u001b[39m\\\u001b[39m\u001b[39mfrac\u001b[39m\u001b[39m{m}\u001b[39;00m\u001b[39m{s}\u001b[39;00m\u001b[39m$\u001b[39m\u001b[39m'\u001b[39m, labelpos\u001b[39m=\u001b[39m\u001b[39m'\u001b[39m\u001b[39mE\u001b[39m\u001b[39m'\u001b[39m, coordinates\u001b[39m=\u001b[39m\u001b[39m'\u001b[39m\u001b[39mfigure\u001b[39m\u001b[39m'\u001b[39m)   \n\u001b[0;32m---> <a href='vscode-notebook-cell:/Users/Aaron/CSWM/src/plot.ipynb#ch0000012?line=54'>55</a>\u001b[0m plt\u001b[39m.\u001b[39;49msavefig(\u001b[39mf\u001b[39;49m\u001b[39m\"\u001b[39;49m\u001b[39m../graphs/h/curvilinear/\u001b[39;49m\u001b[39m{\u001b[39;49;00mcount\u001b[39m}\u001b[39;49;00m\u001b[39m.png\u001b[39;49m\u001b[39m\"\u001b[39;49m, dpi\u001b[39m=\u001b[39;49m\u001b[39m150\u001b[39;49m)\n\u001b[1;32m     <a href='vscode-notebook-cell:/Users/Aaron/CSWM/src/plot.ipynb#ch0000012?line=55'>56</a>\u001b[0m plt\u001b[39m.\u001b[39mclose()\n\u001b[1;32m     <a href='vscode-notebook-cell:/Users/Aaron/CSWM/src/plot.ipynb#ch0000012?line=56'>57</a>\u001b[0m count \u001b[39m+\u001b[39m\u001b[39m=\u001b[39m \u001b[39m1\u001b[39m\n",
      "File \u001b[0;32m~/miniconda3/lib/python3.8/site-packages/matplotlib/pyplot.py:958\u001b[0m, in \u001b[0;36msavefig\u001b[0;34m(*args, **kwargs)\u001b[0m\n\u001b[1;32m    955\u001b[0m \u001b[39m@_copy_docstring_and_deprecators\u001b[39m(Figure\u001b[39m.\u001b[39msavefig)\n\u001b[1;32m    956\u001b[0m \u001b[39mdef\u001b[39;00m \u001b[39msavefig\u001b[39m(\u001b[39m*\u001b[39margs, \u001b[39m*\u001b[39m\u001b[39m*\u001b[39mkwargs):\n\u001b[1;32m    957\u001b[0m     fig \u001b[39m=\u001b[39m gcf()\n\u001b[0;32m--> 958\u001b[0m     res \u001b[39m=\u001b[39m fig\u001b[39m.\u001b[39;49msavefig(\u001b[39m*\u001b[39;49margs, \u001b[39m*\u001b[39;49m\u001b[39m*\u001b[39;49mkwargs)\n\u001b[1;32m    959\u001b[0m     fig\u001b[39m.\u001b[39mcanvas\u001b[39m.\u001b[39mdraw_idle()   \u001b[39m# need this if 'transparent=True' to reset colors\u001b[39;00m\n\u001b[1;32m    960\u001b[0m     \u001b[39mreturn\u001b[39;00m res\n",
      "File \u001b[0;32m~/miniconda3/lib/python3.8/site-packages/matplotlib/figure.py:3019\u001b[0m, in \u001b[0;36mFigure.savefig\u001b[0;34m(self, fname, transparent, **kwargs)\u001b[0m\n\u001b[1;32m   3015\u001b[0m     \u001b[39mfor\u001b[39;00m ax \u001b[39min\u001b[39;00m \u001b[39mself\u001b[39m\u001b[39m.\u001b[39maxes:\n\u001b[1;32m   3016\u001b[0m         stack\u001b[39m.\u001b[39menter_context(\n\u001b[1;32m   3017\u001b[0m             ax\u001b[39m.\u001b[39mpatch\u001b[39m.\u001b[39m_cm_set(facecolor\u001b[39m=\u001b[39m\u001b[39m'\u001b[39m\u001b[39mnone\u001b[39m\u001b[39m'\u001b[39m, edgecolor\u001b[39m=\u001b[39m\u001b[39m'\u001b[39m\u001b[39mnone\u001b[39m\u001b[39m'\u001b[39m))\n\u001b[0;32m-> 3019\u001b[0m \u001b[39mself\u001b[39;49m\u001b[39m.\u001b[39;49mcanvas\u001b[39m.\u001b[39;49mprint_figure(fname, \u001b[39m*\u001b[39;49m\u001b[39m*\u001b[39;49mkwargs)\n",
      "File \u001b[0;32m~/miniconda3/lib/python3.8/site-packages/matplotlib/backend_bases.py:2319\u001b[0m, in \u001b[0;36mFigureCanvasBase.print_figure\u001b[0;34m(self, filename, dpi, facecolor, edgecolor, orientation, format, bbox_inches, pad_inches, bbox_extra_artists, backend, **kwargs)\u001b[0m\n\u001b[1;32m   2315\u001b[0m \u001b[39mtry\u001b[39;00m:\n\u001b[1;32m   2316\u001b[0m     \u001b[39m# _get_renderer may change the figure dpi (as vector formats\u001b[39;00m\n\u001b[1;32m   2317\u001b[0m     \u001b[39m# force the figure dpi to 72), so we need to set it again here.\u001b[39;00m\n\u001b[1;32m   2318\u001b[0m     \u001b[39mwith\u001b[39;00m cbook\u001b[39m.\u001b[39m_setattr_cm(\u001b[39mself\u001b[39m\u001b[39m.\u001b[39mfigure, dpi\u001b[39m=\u001b[39mdpi):\n\u001b[0;32m-> 2319\u001b[0m         result \u001b[39m=\u001b[39m print_method(\n\u001b[1;32m   2320\u001b[0m             filename,\n\u001b[1;32m   2321\u001b[0m             facecolor\u001b[39m=\u001b[39;49mfacecolor,\n\u001b[1;32m   2322\u001b[0m             edgecolor\u001b[39m=\u001b[39;49medgecolor,\n\u001b[1;32m   2323\u001b[0m             orientation\u001b[39m=\u001b[39;49morientation,\n\u001b[1;32m   2324\u001b[0m             bbox_inches_restore\u001b[39m=\u001b[39;49m_bbox_inches_restore,\n\u001b[1;32m   2325\u001b[0m             \u001b[39m*\u001b[39;49m\u001b[39m*\u001b[39;49mkwargs)\n\u001b[1;32m   2326\u001b[0m \u001b[39mfinally\u001b[39;00m:\n\u001b[1;32m   2327\u001b[0m     \u001b[39mif\u001b[39;00m bbox_inches \u001b[39mand\u001b[39;00m restore_bbox:\n",
      "File \u001b[0;32m~/miniconda3/lib/python3.8/site-packages/matplotlib/backend_bases.py:1648\u001b[0m, in \u001b[0;36m_check_savefig_extra_args.<locals>.wrapper\u001b[0;34m(*args, **kwargs)\u001b[0m\n\u001b[1;32m   1640\u001b[0m     _api\u001b[39m.\u001b[39mwarn_deprecated(\n\u001b[1;32m   1641\u001b[0m         \u001b[39m'\u001b[39m\u001b[39m3.3\u001b[39m\u001b[39m'\u001b[39m, name\u001b[39m=\u001b[39mname, removal\u001b[39m=\u001b[39m\u001b[39m'\u001b[39m\u001b[39m3.6\u001b[39m\u001b[39m'\u001b[39m,\n\u001b[1;32m   1642\u001b[0m         message\u001b[39m=\u001b[39m\u001b[39m'\u001b[39m\u001b[39m%(name)s\u001b[39;00m\u001b[39m() got unexpected keyword argument \u001b[39m\u001b[39m\"\u001b[39m\u001b[39m'\u001b[39m\n\u001b[1;32m   1643\u001b[0m                 \u001b[39m+\u001b[39m arg \u001b[39m+\u001b[39m \u001b[39m'\u001b[39m\u001b[39m\"\u001b[39m\u001b[39m which is no longer supported as of \u001b[39m\u001b[39m'\u001b[39m\n\u001b[1;32m   1644\u001b[0m                 \u001b[39m'\u001b[39m\u001b[39m%(since)s\u001b[39;00m\u001b[39m and will become an error \u001b[39m\u001b[39m'\u001b[39m\n\u001b[1;32m   1645\u001b[0m                 \u001b[39m'\u001b[39m\u001b[39m%(removal)s\u001b[39;00m\u001b[39m'\u001b[39m)\n\u001b[1;32m   1646\u001b[0m     kwargs\u001b[39m.\u001b[39mpop(arg)\n\u001b[0;32m-> 1648\u001b[0m \u001b[39mreturn\u001b[39;00m func(\u001b[39m*\u001b[39;49margs, \u001b[39m*\u001b[39;49m\u001b[39m*\u001b[39;49mkwargs)\n",
      "File \u001b[0;32m~/miniconda3/lib/python3.8/site-packages/matplotlib/_api/deprecation.py:412\u001b[0m, in \u001b[0;36mdelete_parameter.<locals>.wrapper\u001b[0;34m(*inner_args, **inner_kwargs)\u001b[0m\n\u001b[1;32m    402\u001b[0m     deprecation_addendum \u001b[39m=\u001b[39m (\n\u001b[1;32m    403\u001b[0m         \u001b[39mf\u001b[39m\u001b[39m\"\u001b[39m\u001b[39mIf any parameter follows \u001b[39m\u001b[39m{\u001b[39;00mname\u001b[39m!r}\u001b[39;00m\u001b[39m, they should be passed as \u001b[39m\u001b[39m\"\u001b[39m\n\u001b[1;32m    404\u001b[0m         \u001b[39mf\u001b[39m\u001b[39m\"\u001b[39m\u001b[39mkeyword, not positionally.\u001b[39m\u001b[39m\"\u001b[39m)\n\u001b[1;32m    405\u001b[0m     warn_deprecated(\n\u001b[1;32m    406\u001b[0m         since,\n\u001b[1;32m    407\u001b[0m         name\u001b[39m=\u001b[39m\u001b[39mrepr\u001b[39m(name),\n\u001b[0;32m   (...)\u001b[0m\n\u001b[1;32m    410\u001b[0m                  \u001b[39melse\u001b[39;00m deprecation_addendum,\n\u001b[1;32m    411\u001b[0m         \u001b[39m*\u001b[39m\u001b[39m*\u001b[39mkwargs)\n\u001b[0;32m--> 412\u001b[0m \u001b[39mreturn\u001b[39;00m func(\u001b[39m*\u001b[39;49minner_args, \u001b[39m*\u001b[39;49m\u001b[39m*\u001b[39;49minner_kwargs)\n",
      "File \u001b[0;32m~/miniconda3/lib/python3.8/site-packages/matplotlib/backends/backend_agg.py:540\u001b[0m, in \u001b[0;36mFigureCanvasAgg.print_png\u001b[0;34m(self, filename_or_obj, metadata, pil_kwargs, *args)\u001b[0m\n\u001b[1;32m    490\u001b[0m \u001b[39m@_check_savefig_extra_args\u001b[39m\n\u001b[1;32m    491\u001b[0m \u001b[39m@_api\u001b[39m\u001b[39m.\u001b[39mdelete_parameter(\u001b[39m\"\u001b[39m\u001b[39m3.5\u001b[39m\u001b[39m\"\u001b[39m, \u001b[39m\"\u001b[39m\u001b[39margs\u001b[39m\u001b[39m\"\u001b[39m)\n\u001b[1;32m    492\u001b[0m \u001b[39mdef\u001b[39;00m \u001b[39mprint_png\u001b[39m(\u001b[39mself\u001b[39m, filename_or_obj, \u001b[39m*\u001b[39margs,\n\u001b[1;32m    493\u001b[0m               metadata\u001b[39m=\u001b[39m\u001b[39mNone\u001b[39;00m, pil_kwargs\u001b[39m=\u001b[39m\u001b[39mNone\u001b[39;00m):\n\u001b[1;32m    494\u001b[0m     \u001b[39m\"\"\"\u001b[39;00m\n\u001b[1;32m    495\u001b[0m \u001b[39m    Write the figure to a PNG file.\u001b[39;00m\n\u001b[1;32m    496\u001b[0m \n\u001b[0;32m   (...)\u001b[0m\n\u001b[1;32m    538\u001b[0m \u001b[39m        *metadata*, including the default 'Software' key.\u001b[39;00m\n\u001b[1;32m    539\u001b[0m \u001b[39m    \"\"\"\u001b[39;00m\n\u001b[0;32m--> 540\u001b[0m     FigureCanvasAgg\u001b[39m.\u001b[39;49mdraw(\u001b[39mself\u001b[39;49m)\n\u001b[1;32m    541\u001b[0m     mpl\u001b[39m.\u001b[39mimage\u001b[39m.\u001b[39mimsave(\n\u001b[1;32m    542\u001b[0m         filename_or_obj, \u001b[39mself\u001b[39m\u001b[39m.\u001b[39mbuffer_rgba(), \u001b[39mformat\u001b[39m\u001b[39m=\u001b[39m\u001b[39m\"\u001b[39m\u001b[39mpng\u001b[39m\u001b[39m\"\u001b[39m, origin\u001b[39m=\u001b[39m\u001b[39m\"\u001b[39m\u001b[39mupper\u001b[39m\u001b[39m\"\u001b[39m,\n\u001b[1;32m    543\u001b[0m         dpi\u001b[39m=\u001b[39m\u001b[39mself\u001b[39m\u001b[39m.\u001b[39mfigure\u001b[39m.\u001b[39mdpi, metadata\u001b[39m=\u001b[39mmetadata, pil_kwargs\u001b[39m=\u001b[39mpil_kwargs)\n",
      "File \u001b[0;32m~/miniconda3/lib/python3.8/site-packages/matplotlib/backends/backend_agg.py:436\u001b[0m, in \u001b[0;36mFigureCanvasAgg.draw\u001b[0;34m(self)\u001b[0m\n\u001b[1;32m    432\u001b[0m \u001b[39m# Acquire a lock on the shared font cache.\u001b[39;00m\n\u001b[1;32m    433\u001b[0m \u001b[39mwith\u001b[39;00m RendererAgg\u001b[39m.\u001b[39mlock, \\\n\u001b[1;32m    434\u001b[0m      (\u001b[39mself\u001b[39m\u001b[39m.\u001b[39mtoolbar\u001b[39m.\u001b[39m_wait_cursor_for_draw_cm() \u001b[39mif\u001b[39;00m \u001b[39mself\u001b[39m\u001b[39m.\u001b[39mtoolbar\n\u001b[1;32m    435\u001b[0m       \u001b[39melse\u001b[39;00m nullcontext()):\n\u001b[0;32m--> 436\u001b[0m     \u001b[39mself\u001b[39;49m\u001b[39m.\u001b[39;49mfigure\u001b[39m.\u001b[39;49mdraw(\u001b[39mself\u001b[39;49m\u001b[39m.\u001b[39;49mrenderer)\n\u001b[1;32m    437\u001b[0m     \u001b[39m# A GUI class may be need to update a window using this draw, so\u001b[39;00m\n\u001b[1;32m    438\u001b[0m     \u001b[39m# don't forget to call the superclass.\u001b[39;00m\n\u001b[1;32m    439\u001b[0m     \u001b[39msuper\u001b[39m()\u001b[39m.\u001b[39mdraw()\n",
      "File \u001b[0;32m~/miniconda3/lib/python3.8/site-packages/matplotlib/artist.py:73\u001b[0m, in \u001b[0;36m_finalize_rasterization.<locals>.draw_wrapper\u001b[0;34m(artist, renderer, *args, **kwargs)\u001b[0m\n\u001b[1;32m     71\u001b[0m \u001b[39m@wraps\u001b[39m(draw)\n\u001b[1;32m     72\u001b[0m \u001b[39mdef\u001b[39;00m \u001b[39mdraw_wrapper\u001b[39m(artist, renderer, \u001b[39m*\u001b[39margs, \u001b[39m*\u001b[39m\u001b[39m*\u001b[39mkwargs):\n\u001b[0;32m---> 73\u001b[0m     result \u001b[39m=\u001b[39m draw(artist, renderer, \u001b[39m*\u001b[39;49margs, \u001b[39m*\u001b[39;49m\u001b[39m*\u001b[39;49mkwargs)\n\u001b[1;32m     74\u001b[0m     \u001b[39mif\u001b[39;00m renderer\u001b[39m.\u001b[39m_rasterizing:\n\u001b[1;32m     75\u001b[0m         renderer\u001b[39m.\u001b[39mstop_rasterizing()\n",
      "File \u001b[0;32m~/miniconda3/lib/python3.8/site-packages/matplotlib/artist.py:50\u001b[0m, in \u001b[0;36mallow_rasterization.<locals>.draw_wrapper\u001b[0;34m(artist, renderer)\u001b[0m\n\u001b[1;32m     47\u001b[0m     \u001b[39mif\u001b[39;00m artist\u001b[39m.\u001b[39mget_agg_filter() \u001b[39mis\u001b[39;00m \u001b[39mnot\u001b[39;00m \u001b[39mNone\u001b[39;00m:\n\u001b[1;32m     48\u001b[0m         renderer\u001b[39m.\u001b[39mstart_filter()\n\u001b[0;32m---> 50\u001b[0m     \u001b[39mreturn\u001b[39;00m draw(artist, renderer)\n\u001b[1;32m     51\u001b[0m \u001b[39mfinally\u001b[39;00m:\n\u001b[1;32m     52\u001b[0m     \u001b[39mif\u001b[39;00m artist\u001b[39m.\u001b[39mget_agg_filter() \u001b[39mis\u001b[39;00m \u001b[39mnot\u001b[39;00m \u001b[39mNone\u001b[39;00m:\n",
      "File \u001b[0;32m~/miniconda3/lib/python3.8/site-packages/matplotlib/figure.py:2810\u001b[0m, in \u001b[0;36mFigure.draw\u001b[0;34m(self, renderer)\u001b[0m\n\u001b[1;32m   2807\u001b[0m         \u001b[39m# ValueError can occur when resizing a window.\u001b[39;00m\n\u001b[1;32m   2809\u001b[0m \u001b[39mself\u001b[39m\u001b[39m.\u001b[39mpatch\u001b[39m.\u001b[39mdraw(renderer)\n\u001b[0;32m-> 2810\u001b[0m mimage\u001b[39m.\u001b[39;49m_draw_list_compositing_images(\n\u001b[1;32m   2811\u001b[0m     renderer, \u001b[39mself\u001b[39;49m, artists, \u001b[39mself\u001b[39;49m\u001b[39m.\u001b[39;49msuppressComposite)\n\u001b[1;32m   2813\u001b[0m \u001b[39mfor\u001b[39;00m sfig \u001b[39min\u001b[39;00m \u001b[39mself\u001b[39m\u001b[39m.\u001b[39msubfigs:\n\u001b[1;32m   2814\u001b[0m     sfig\u001b[39m.\u001b[39mdraw(renderer)\n",
      "File \u001b[0;32m~/miniconda3/lib/python3.8/site-packages/matplotlib/image.py:132\u001b[0m, in \u001b[0;36m_draw_list_compositing_images\u001b[0;34m(renderer, parent, artists, suppress_composite)\u001b[0m\n\u001b[1;32m    130\u001b[0m \u001b[39mif\u001b[39;00m not_composite \u001b[39mor\u001b[39;00m \u001b[39mnot\u001b[39;00m has_images:\n\u001b[1;32m    131\u001b[0m     \u001b[39mfor\u001b[39;00m a \u001b[39min\u001b[39;00m artists:\n\u001b[0;32m--> 132\u001b[0m         a\u001b[39m.\u001b[39;49mdraw(renderer)\n\u001b[1;32m    133\u001b[0m \u001b[39melse\u001b[39;00m:\n\u001b[1;32m    134\u001b[0m     \u001b[39m# Composite any adjacent images together\u001b[39;00m\n\u001b[1;32m    135\u001b[0m     image_group \u001b[39m=\u001b[39m []\n",
      "File \u001b[0;32m~/miniconda3/lib/python3.8/site-packages/matplotlib/artist.py:50\u001b[0m, in \u001b[0;36mallow_rasterization.<locals>.draw_wrapper\u001b[0;34m(artist, renderer)\u001b[0m\n\u001b[1;32m     47\u001b[0m     \u001b[39mif\u001b[39;00m artist\u001b[39m.\u001b[39mget_agg_filter() \u001b[39mis\u001b[39;00m \u001b[39mnot\u001b[39;00m \u001b[39mNone\u001b[39;00m:\n\u001b[1;32m     48\u001b[0m         renderer\u001b[39m.\u001b[39mstart_filter()\n\u001b[0;32m---> 50\u001b[0m     \u001b[39mreturn\u001b[39;00m draw(artist, renderer)\n\u001b[1;32m     51\u001b[0m \u001b[39mfinally\u001b[39;00m:\n\u001b[1;32m     52\u001b[0m     \u001b[39mif\u001b[39;00m artist\u001b[39m.\u001b[39mget_agg_filter() \u001b[39mis\u001b[39;00m \u001b[39mnot\u001b[39;00m \u001b[39mNone\u001b[39;00m:\n",
      "File \u001b[0;32m~/miniconda3/lib/python3.8/site-packages/matplotlib/axes/_base.py:3082\u001b[0m, in \u001b[0;36m_AxesBase.draw\u001b[0;34m(self, renderer)\u001b[0m\n\u001b[1;32m   3079\u001b[0m         a\u001b[39m.\u001b[39mdraw(renderer)\n\u001b[1;32m   3080\u001b[0m     renderer\u001b[39m.\u001b[39mstop_rasterizing()\n\u001b[0;32m-> 3082\u001b[0m mimage\u001b[39m.\u001b[39;49m_draw_list_compositing_images(\n\u001b[1;32m   3083\u001b[0m     renderer, \u001b[39mself\u001b[39;49m, artists, \u001b[39mself\u001b[39;49m\u001b[39m.\u001b[39;49mfigure\u001b[39m.\u001b[39;49msuppressComposite)\n\u001b[1;32m   3085\u001b[0m renderer\u001b[39m.\u001b[39mclose_group(\u001b[39m'\u001b[39m\u001b[39maxes\u001b[39m\u001b[39m'\u001b[39m)\n\u001b[1;32m   3086\u001b[0m \u001b[39mself\u001b[39m\u001b[39m.\u001b[39mstale \u001b[39m=\u001b[39m \u001b[39mFalse\u001b[39;00m\n",
      "File \u001b[0;32m~/miniconda3/lib/python3.8/site-packages/matplotlib/image.py:132\u001b[0m, in \u001b[0;36m_draw_list_compositing_images\u001b[0;34m(renderer, parent, artists, suppress_composite)\u001b[0m\n\u001b[1;32m    130\u001b[0m \u001b[39mif\u001b[39;00m not_composite \u001b[39mor\u001b[39;00m \u001b[39mnot\u001b[39;00m has_images:\n\u001b[1;32m    131\u001b[0m     \u001b[39mfor\u001b[39;00m a \u001b[39min\u001b[39;00m artists:\n\u001b[0;32m--> 132\u001b[0m         a\u001b[39m.\u001b[39;49mdraw(renderer)\n\u001b[1;32m    133\u001b[0m \u001b[39melse\u001b[39;00m:\n\u001b[1;32m    134\u001b[0m     \u001b[39m# Composite any adjacent images together\u001b[39;00m\n\u001b[1;32m    135\u001b[0m     image_group \u001b[39m=\u001b[39m []\n",
      "File \u001b[0;32m~/miniconda3/lib/python3.8/site-packages/matplotlib/artist.py:50\u001b[0m, in \u001b[0;36mallow_rasterization.<locals>.draw_wrapper\u001b[0;34m(artist, renderer)\u001b[0m\n\u001b[1;32m     47\u001b[0m     \u001b[39mif\u001b[39;00m artist\u001b[39m.\u001b[39mget_agg_filter() \u001b[39mis\u001b[39;00m \u001b[39mnot\u001b[39;00m \u001b[39mNone\u001b[39;00m:\n\u001b[1;32m     48\u001b[0m         renderer\u001b[39m.\u001b[39mstart_filter()\n\u001b[0;32m---> 50\u001b[0m     \u001b[39mreturn\u001b[39;00m draw(artist, renderer)\n\u001b[1;32m     51\u001b[0m \u001b[39mfinally\u001b[39;00m:\n\u001b[1;32m     52\u001b[0m     \u001b[39mif\u001b[39;00m artist\u001b[39m.\u001b[39mget_agg_filter() \u001b[39mis\u001b[39;00m \u001b[39mnot\u001b[39;00m \u001b[39mNone\u001b[39;00m:\n",
      "File \u001b[0;32m~/miniconda3/lib/python3.8/site-packages/matplotlib/axis.py:1163\u001b[0m, in \u001b[0;36mAxis.draw\u001b[0;34m(self, renderer, *args, **kwargs)\u001b[0m\n\u001b[1;32m   1159\u001b[0m ticklabelBoxes, ticklabelBoxes2 \u001b[39m=\u001b[39m \u001b[39mself\u001b[39m\u001b[39m.\u001b[39m_get_tick_bboxes(ticks_to_draw,\n\u001b[1;32m   1160\u001b[0m                                                         renderer)\n\u001b[1;32m   1162\u001b[0m \u001b[39mfor\u001b[39;00m tick \u001b[39min\u001b[39;00m ticks_to_draw:\n\u001b[0;32m-> 1163\u001b[0m     tick\u001b[39m.\u001b[39;49mdraw(renderer)\n\u001b[1;32m   1165\u001b[0m \u001b[39m# scale up the axis label box to also find the neighbors, not\u001b[39;00m\n\u001b[1;32m   1166\u001b[0m \u001b[39m# just the tick labels that actually overlap note we need a\u001b[39;00m\n\u001b[1;32m   1167\u001b[0m \u001b[39m# *copy* of the axis label box because we don't want to scale\u001b[39;00m\n\u001b[1;32m   1168\u001b[0m \u001b[39m# the actual bbox\u001b[39;00m\n\u001b[1;32m   1170\u001b[0m \u001b[39mself\u001b[39m\u001b[39m.\u001b[39m_update_label_position(renderer)\n",
      "File \u001b[0;32m~/miniconda3/lib/python3.8/site-packages/matplotlib/artist.py:50\u001b[0m, in \u001b[0;36mallow_rasterization.<locals>.draw_wrapper\u001b[0;34m(artist, renderer)\u001b[0m\n\u001b[1;32m     47\u001b[0m     \u001b[39mif\u001b[39;00m artist\u001b[39m.\u001b[39mget_agg_filter() \u001b[39mis\u001b[39;00m \u001b[39mnot\u001b[39;00m \u001b[39mNone\u001b[39;00m:\n\u001b[1;32m     48\u001b[0m         renderer\u001b[39m.\u001b[39mstart_filter()\n\u001b[0;32m---> 50\u001b[0m     \u001b[39mreturn\u001b[39;00m draw(artist, renderer)\n\u001b[1;32m     51\u001b[0m \u001b[39mfinally\u001b[39;00m:\n\u001b[1;32m     52\u001b[0m     \u001b[39mif\u001b[39;00m artist\u001b[39m.\u001b[39mget_agg_filter() \u001b[39mis\u001b[39;00m \u001b[39mnot\u001b[39;00m \u001b[39mNone\u001b[39;00m:\n",
      "File \u001b[0;32m~/miniconda3/lib/python3.8/site-packages/matplotlib/axis.py:299\u001b[0m, in \u001b[0;36mTick.draw\u001b[0;34m(self, renderer)\u001b[0m\n\u001b[1;32m    296\u001b[0m renderer\u001b[39m.\u001b[39mopen_group(\u001b[39mself\u001b[39m\u001b[39m.\u001b[39m\u001b[39m__name__\u001b[39m, gid\u001b[39m=\u001b[39m\u001b[39mself\u001b[39m\u001b[39m.\u001b[39mget_gid())\n\u001b[1;32m    297\u001b[0m \u001b[39mfor\u001b[39;00m artist \u001b[39min\u001b[39;00m [\u001b[39mself\u001b[39m\u001b[39m.\u001b[39mgridline, \u001b[39mself\u001b[39m\u001b[39m.\u001b[39mtick1line, \u001b[39mself\u001b[39m\u001b[39m.\u001b[39mtick2line,\n\u001b[1;32m    298\u001b[0m                \u001b[39mself\u001b[39m\u001b[39m.\u001b[39mlabel1, \u001b[39mself\u001b[39m\u001b[39m.\u001b[39mlabel2]:\n\u001b[0;32m--> 299\u001b[0m     artist\u001b[39m.\u001b[39;49mdraw(renderer)\n\u001b[1;32m    300\u001b[0m renderer\u001b[39m.\u001b[39mclose_group(\u001b[39mself\u001b[39m\u001b[39m.\u001b[39m\u001b[39m__name__\u001b[39m)\n\u001b[1;32m    301\u001b[0m \u001b[39mself\u001b[39m\u001b[39m.\u001b[39mstale \u001b[39m=\u001b[39m \u001b[39mFalse\u001b[39;00m\n",
      "File \u001b[0;32m~/miniconda3/lib/python3.8/site-packages/matplotlib/artist.py:50\u001b[0m, in \u001b[0;36mallow_rasterization.<locals>.draw_wrapper\u001b[0;34m(artist, renderer)\u001b[0m\n\u001b[1;32m     47\u001b[0m     \u001b[39mif\u001b[39;00m artist\u001b[39m.\u001b[39mget_agg_filter() \u001b[39mis\u001b[39;00m \u001b[39mnot\u001b[39;00m \u001b[39mNone\u001b[39;00m:\n\u001b[1;32m     48\u001b[0m         renderer\u001b[39m.\u001b[39mstart_filter()\n\u001b[0;32m---> 50\u001b[0m     \u001b[39mreturn\u001b[39;00m draw(artist, renderer)\n\u001b[1;32m     51\u001b[0m \u001b[39mfinally\u001b[39;00m:\n\u001b[1;32m     52\u001b[0m     \u001b[39mif\u001b[39;00m artist\u001b[39m.\u001b[39mget_agg_filter() \u001b[39mis\u001b[39;00m \u001b[39mnot\u001b[39;00m \u001b[39mNone\u001b[39;00m:\n",
      "File \u001b[0;32m~/miniconda3/lib/python3.8/site-packages/matplotlib/text.py:733\u001b[0m, in \u001b[0;36mText.draw\u001b[0;34m(self, renderer)\u001b[0m\n\u001b[1;32m    729\u001b[0m             textrenderer\u001b[39m.\u001b[39mdraw_tex(gc, x, y, clean_line,\n\u001b[1;32m    730\u001b[0m                                   \u001b[39mself\u001b[39m\u001b[39m.\u001b[39m_fontproperties, angle,\n\u001b[1;32m    731\u001b[0m                                   mtext\u001b[39m=\u001b[39mmtext)\n\u001b[1;32m    732\u001b[0m         \u001b[39melse\u001b[39;00m:\n\u001b[0;32m--> 733\u001b[0m             textrenderer\u001b[39m.\u001b[39;49mdraw_text(gc, x, y, clean_line,\n\u001b[1;32m    734\u001b[0m                                    \u001b[39mself\u001b[39;49m\u001b[39m.\u001b[39;49m_fontproperties, angle,\n\u001b[1;32m    735\u001b[0m                                    ismath\u001b[39m=\u001b[39;49mismath, mtext\u001b[39m=\u001b[39;49mmtext)\n\u001b[1;32m    737\u001b[0m gc\u001b[39m.\u001b[39mrestore()\n\u001b[1;32m    738\u001b[0m renderer\u001b[39m.\u001b[39mclose_group(\u001b[39m'\u001b[39m\u001b[39mtext\u001b[39m\u001b[39m'\u001b[39m)\n",
      "File \u001b[0;32m~/miniconda3/lib/python3.8/site-packages/matplotlib/backends/backend_agg.py:242\u001b[0m, in \u001b[0;36mRendererAgg.draw_text\u001b[0;34m(self, gc, x, y, s, prop, angle, ismath, mtext)\u001b[0m\n\u001b[1;32m    240\u001b[0m d \u001b[39m=\u001b[39m font\u001b[39m.\u001b[39mget_descent() \u001b[39m/\u001b[39m \u001b[39m64.0\u001b[39m\n\u001b[1;32m    241\u001b[0m \u001b[39m# The descent needs to be adjusted for the angle.\u001b[39;00m\n\u001b[0;32m--> 242\u001b[0m xo, yo \u001b[39m=\u001b[39m font\u001b[39m.\u001b[39;49mget_bitmap_offset()\n\u001b[1;32m    243\u001b[0m xo \u001b[39m/\u001b[39m\u001b[39m=\u001b[39m \u001b[39m64.0\u001b[39m\n\u001b[1;32m    244\u001b[0m yo \u001b[39m/\u001b[39m\u001b[39m=\u001b[39m \u001b[39m64.0\u001b[39m\n",
      "\u001b[0;31mKeyboardInterrupt\u001b[0m: "
     ]
    },
    {
     "data": {
      "image/png": "[encoded data removed]",
      "text/plain": [
       "<Figure size 1296x720 with 6 Axes>"
      ]
     },
     "metadata": {
      "needs_background": "light"
     },
     "output_type": "display_data"
    }
   ],
   "source": [
    "NX = 45\n",
    "NY = 45\n",
    "DT = 360.\n",
    "lon = np.loadtxt(\"../outputs/grid/lon.txt\").reshape(6, NX, NY) * 180. / np.pi\n",
    "lat = np.loadtxt(\"../outputs/grid/lat.txt\").reshape(6, NX, NY) * 180. / np.pi\n",
    "\n",
    "x = np.loadtxt(\"../outputs/grid/x.txt\").reshape(6, NX, NY)\n",
    "y = np.loadtxt(\"../outputs/grid/y.txt\").reshape(6, NX, NY)\n",
    "\n",
    "count = 0\n",
    "leap = 80\n",
    "h = np.zeros([6, NX, NY])\n",
    "for t in range(0, 6000, 10):\n",
    "    h = np.loadtxt(f\"../outputs/h/h_{t*leap}.txt\").reshape(6, NX, NY)\n",
    "    u = np.loadtxt(f\"../outputs/u/u_{t*leap}.txt\").reshape(6, NX, NY)\n",
    "    v = np.loadtxt(f\"../outputs/v/v_{t*leap}.txt\").reshape(6, NX, NY)\n",
    "\n",
    "    fig = plt.figure(figsize=(18,10))\n",
    "    ax5 = fig.add_subplot(3,4,2)\n",
    "    ax4 = fig.add_subplot(3,4,5)\n",
    "    ax1 = fig.add_subplot(3,4,6)\n",
    "    ax2 = fig.add_subplot(3,4,7)\n",
    "    ax3 = fig.add_subplot(3,4,8)\n",
    "    ax6 = fig.add_subplot(3,4,10)\n",
    "    ax5.set_title(f\"t = {t * leap * DT / 60} min\", fontsize=14)\n",
    "\n",
    "    ax1.contourf(x[0], y[0], h[0], levels=np.linspace(-1, 1, 9), extend='both')\n",
    "    ax2.contourf(x[1], y[1], h[1], levels=np.linspace(-1, 1, 9), extend='both')\n",
    "    ax3.contourf(x[2], y[2], h[2], levels=np.linspace(-1, 1, 9), extend='both')\n",
    "    ax4.contourf(x[3], y[3], h[3], levels=np.linspace(-1, 1, 9), extend='both')\n",
    "    ax5.contourf(x[4], y[4], h[4], levels=np.linspace(-1, 1, 9), extend='both')\n",
    "    ax6.contourf(x[5], y[5], h[5], levels=np.linspace(-1, 1, 9), extend='both')\n",
    "\n",
    "    # ax1.contourf(x[0], y[0], h[0], extend='both')\n",
    "    # ax2.contourf(x[1], y[1], h[1], extend='both')\n",
    "    # ax3.contourf(x[2], y[2], h[2], extend='both')\n",
    "    # ax4.contourf(x[3], y[3], h[3], extend='both')\n",
    "    # ax5.contourf(x[4], y[4], h[4], extend='both')\n",
    "    # ax6.contourf(x[5], y[5], h[5], extend='both')\n",
    "\n",
    "    Q = ax1.quiver(x[0], y[0], u[0], v[0], angles='xy', units=\"width\", scale=100)\n",
    "    ax2.quiver(x[1], y[1], u[1], v[1], angles='xy', units=\"width\", scale=100)\n",
    "    ax3.quiver(x[2], y[2], u[2], v[2], angles='xy', units=\"width\", scale=100)\n",
    "    ax4.quiver(x[3], y[3], u[3], v[3], angles='xy', units=\"width\", scale=100)\n",
    "    ax5.quiver(x[4], y[4], u[4], v[4], angles='xy', units=\"width\", scale=100)\n",
    "    ax6.quiver(x[5], y[5], u[5], v[5], angles='xy', units=\"width\", scale=100)\n",
    "\n",
    "    ax1.quiverkey(Q, 0.7, 0.9, 0.5, r'$0.5 \\frac{m}{s}$', labelpos='E', coordinates='figure')  \n",
    "    ax2.quiverkey(Q, 0.7, 0.9, 0.5, r'$0.5 \\frac{m}{s}$', labelpos='E', coordinates='figure')  \n",
    "    ax3.quiverkey(Q, 0.7, 0.9, 0.5, r'$0.5 \\frac{m}{s}$', labelpos='E', coordinates='figure')  \n",
    "    ax4.quiverkey(Q, 0.7, 0.9, 0.5, r'$0.5 \\frac{m}{s}$', labelpos='E', coordinates='figure')  \n",
    "    ax5.quiverkey(Q, 0.7, 0.9, 0.5, r'$0.5 \\frac{m}{s}$', labelpos='E', coordinates='figure')  \n",
    "    ax6.quiverkey(Q, 0.7, 0.9, 0.5, r'$0.5 \\frac{m}{s}$', labelpos='E', coordinates='figure')   \n",
    "    \n",
    "    plt.savefig(f\"../graphs/h/curvilinear/{count}.png\", dpi=150)\n",
    "    plt.close()\n",
    "    count += 1"
   ]
  },
  {
   "cell_type": "code",
   "execution_count": 71,
   "metadata": {},
   "outputs": [
    {
     "data": {
      "image/png": "[encoded data removed]",
      "text/plain": [
       "<Figure size 432x288 with 1 Axes>"
      ]
     },
     "metadata": {
      "needs_background": "light"
     },
     "output_type": "display_data"
    },
    {
     "name": "stdout",
     "output_type": "stream",
     "text": [
      "-4.21054e-57\n"
     ]
    }
   ],
   "source": [
    "t = 10\n",
    "h = np.loadtxt(f\"../outputs/h/h_{t*10}.txt\").reshape(6, NX, NY)\n",
    "u = np.loadtxt(f\"../outputs/u/u_{10*t}.txt\").reshape(6, NX, NY)\n",
    "v = np.loadtxt(f\"../outputs/v/v_{10*t}.txt\").reshape(6, NX, NY)\n",
    "plt.quiver(x[3], y[3], u[3], v[3])\n",
    "plt.show()\n",
    "print(np.min(u[3]))"
   ]
  },
  {
   "cell_type": "markdown",
   "metadata": {},
   "source": [
    "##### 1d wind"
   ]
  },
  {
   "cell_type": "code",
   "execution_count": null,
   "metadata": {},
   "outputs": [],
   "source": [
    "NX = 45\n",
    "NY = 45\n",
    "DT = 360.\n",
    "lon = np.loadtxt(\"../outputs/grid/lon.txt\").reshape(6, NX, NY) * 180. / np.pi\n",
    "lat = np.loadtxt(\"../outputs/grid/lat.txt\").reshape(6, NX, NY) * 180. / np.pi\n",
    "\n",
    "x = np.loadtxt(\"../outputs/grid/x.txt\").reshape(6, NX, NY)\n",
    "y = np.loadtxt(\"../outputs/grid/y.txt\").reshape(6, NX, NY)\n",
    "\n",
    "count = 0\n",
    "h = np.zeros([6, NX, NY])\n",
    "for t in range(0, 6000, 10):\n",
    "    h = np.loadtxt(f\"../outputs/h/h_{t*10}.txt\").reshape(6, NX, NY)\n",
    "    u = np.loadtxt(f\"../outputs/u/u_{10*t}.txt\").reshape(6, NX, NY)\n",
    "    v = np.loadtxt(f\"../outputs/v/v_{10*t}.txt\").reshape(6, NX, NY)\n",
    "\n",
    "    # fig = plt.figure(figsize=(18,10))\n",
    "    # ax5 = fig.add_subplot(3,4,2)\n",
    "    # ax4 = fig.add_subplot(3,4,5)\n",
    "    # ax1 = fig.add_subplot(3,4,6)\n",
    "    # ax2 = fig.add_subplot(3,4,7)\n",
    "    # ax3 = fig.add_subplot(3,4,8)\n",
    "    # ax6 = fig.add_subplot(3,4,10)\n",
    "    # ax5.set_title(f\"t = {t * 10 * DT / 60} min\", fontsize=14)\n",
    "\n",
    "    # ax1.contourf(x[0], y[0], u[0], levels=np.linspace(-12, 12, 13), extend='both')\n",
    "    # ax2.contourf(x[1], y[1], u[1], levels=np.linspace(-12, 12, 13), extend='both')\n",
    "    # ax3.contourf(x[2], y[2], u[2], levels=np.linspace(-12, 12, 13), extend='both')\n",
    "    # ax4.contourf(x[3], y[3], u[3], levels=np.linspace(-12, 12, 13), extend='both')\n",
    "    # ax5.contourf(x[4], y[4], u[4], levels=np.linspace(-12, 12, 13), extend='both')\n",
    "    # ax6.contourf(x[5], y[5], u[5], levels=np.linspace(-12, 12, 13), extend='both')\n",
    "    plt.plot(x[0, :, NY//2], u[0, :, NY//2])\n",
    "\n",
    "    # ax1.contourf(x[0], y[0], h[0], extend='both')\n",
    "    # ax2.contourf(x[1], y[1], h[1], extend='both')\n",
    "    # ax3.contourf(x[2], y[2], h[2], extend='both')\n",
    "    # ax4.contourf(x[3], y[3], h[3], extend='both')\n",
    "    # ax5.contourf(x[4], y[4], h[4], extend='both')\n",
    "    # ax6.contourf(x[5], y[5], h[5], extend='both')\n",
    "\n",
    "    # ax1.quiver(x[0], y[0], u[0], v[0])\n",
    "    # ax2.quiver(x[1], y[1], u[1], v[1])\n",
    "    # ax3.quiver(x[2], y[2], u[2], v[2])\n",
    "    # ax4.quiver(x[3], y[3], u[3], v[3])\n",
    "    # ax5.quiver(x[4], y[4], u[4], v[4])\n",
    "    # ax6.quiver(x[5], y[5], u[5], v[5])   \n",
    "\n",
    "    plt.savefig(f\"../graphs/wind/{count}.png\", dpi=150)\n",
    "    plt.close()\n",
    "    count += 1"
   ]
  },
  {
   "cell_type": "code",
   "execution_count": null,
   "metadata": {},
   "outputs": [],
   "source": []
  },
  {
   "cell_type": "markdown",
   "metadata": {},
   "source": [
    "## Wind plot"
   ]
  },
  {
   "cell_type": "markdown",
   "metadata": {},
   "source": [
    "#### x/y"
   ]
  },
  {
   "cell_type": "code",
   "execution_count": null,
   "metadata": {},
   "outputs": [],
   "source": [
    "NX = 45\n",
    "NY = 45\n",
    "DT = 360\n",
    "u = np.loadtxt(\"../outputs/u/u_0.txt\").reshape(6, NX, NY)\n",
    "v = np.loadtxt(\"../outputs/v/v_0.txt\").reshape(6, NX, NY)\n",
    "x = np.loadtxt(\"../outputs/grid/x.txt\").reshape(6, NX, NY)\n",
    "y = np.loadtxt(\"../outputs/grid/y.txt\").reshape(6, NX, NY)\n",
    "lon = np.loadtxt(\"../outputs/grid/lon.txt\").reshape(6, NX, NY) * 180. / np.pi\n",
    "lat = np.loadtxt(\"../outputs/grid/lat.txt\").reshape(6, NX, NY) * 180. / np.pi\n",
    "\n",
    "fig = plt.figure(figsize=(18, 10))\n",
    "ax5 = fig.add_subplot(342)\n",
    "ax4 = fig.add_subplot(345)\n",
    "ax1 = fig.add_subplot(346)\n",
    "ax2 = fig.add_subplot(347)\n",
    "ax3 = fig.add_subplot(348)\n",
    "ax6 = fig.add_subplot(3,4,10)\n",
    "\n",
    "ax1.quiver(x[0][::2, ::2], y[0][::2, ::2], u[0][::2, ::2], v[0][::2, ::2], angles='xy', units=\"width\", scale=1000)\n",
    "ax2.quiver(x[1][::2, ::2], y[1][::2, ::2], u[1][::2, ::2], v[1][::2, ::2], angles='xy', units=\"width\", scale=1000)\n",
    "ax3.quiver(x[2][::2, ::2], y[2][::2, ::2], u[2][::2, ::2], v[2][::2, ::2], angles='xy', units=\"width\", scale=1000)\n",
    "ax4.quiver(x[3][::2, ::2], y[3][::2, ::2], u[3][::2, ::2], v[3][::2, ::2], angles='xy', units=\"width\", scale=1000)\n",
    "Q = ax5.quiver(x[4][::2, ::2], y[4][::2, ::2], u[4][::2, ::2], v[4][::2, ::2], angles='xy', units=\"width\", scale=1000)\n",
    "ax6.quiver(x[5][::2, ::2], y[5][::2, ::2], u[5][::2, ::2], v[5][::2, ::2], angles='xy', units=\"width\", scale=1000)\n",
    "qk = plt.quiverkey(Q, 0.48, 0.975, 30, r'$30 \\frac{m}{s}$', labelpos='E', coordinates='figure')\n",
    "ax5.set_title(\"Curvilinear Coordinate\")\n",
    "plt.tight_layout()\n",
    "plt.savefig(\"../graphs/wind/curvilinear.png\", dpi=150)\n",
    "plt.show()"
   ]
  },
  {
   "cell_type": "markdown",
   "metadata": {},
   "source": [
    "#### lon/lat"
   ]
  },
  {
   "cell_type": "code",
   "execution_count": null,
   "metadata": {},
   "outputs": [],
   "source": [
    "NX = 45\n",
    "NY = 45\n",
    "DT = 360.\n",
    "u = np.loadtxt(\"../outputs/u_lon_lat/u_lon_lat_0.txt\").reshape(6, NX, NY)\n",
    "v = np.loadtxt(\"../outputs/v_lon_lat/v_lon_lat_0.txt\").reshape(6, NX, NY)\n",
    "lon = np.loadtxt(\"../outputs/grid/lon.txt\").reshape(6, NX, NY) * 180. / np.pi\n",
    "lat = np.loadtxt(\"../outputs/grid/lat.txt\").reshape(6, NX, NY) * 180. / np.pi\n",
    "\n",
    "plt.figure(figsize=(18, 12))\n",
    "plt.title(\"Spherical Coordinate\")\n",
    "size = 2\n",
    "plt.quiver(lon[0][::size, ::size], lat[0][::size, ::size], u[0][::size, ::size], v[0][::size, ::size], scale=1500)\n",
    "plt.quiver(lon[1][::size, ::size], lat[1][::size, ::size], u[1][::size, ::size], v[1][::size, ::size], scale=1500)\n",
    "plt.quiver(lon[2, 0:NX//2, :][::size, ::size], lat[2, 0:NX//2, :][::size, ::size], u[2, 0:NX//2, :][::size, ::size], v[2, 0:NX//2, :][::size, ::size], scale=1500)\n",
    "plt.quiver(lon[2, NX//2:, :][::size, ::size]-360, lat[2, NX//2:, :][::size, ::size], u[2, NX//2:, :][::size, ::size], v[2, NX//2:, :][::size, ::size], scale=1500)\n",
    "plt.quiver(lon[3][::size, ::size]-360, lat[3][::size, ::size], u[3][::size, ::size], v[3][::size, ::size], scale=1500)\n",
    "plt.quiver(lon[4][::size, ::size], lat[4][::size, ::size], u[4][::size, ::size], v[4][::size, ::size], scale=1500)\n",
    "Q = plt.quiver(lon[5][::size, ::size], lat[5][::size, ::size], u[5][::size, ::size], v[5][::size, ::size], scale=1500)\n",
    "qk = plt.quiverkey(Q, 0.83, 0.89, 40, r'$40 \\frac{m}{s}$', labelpos='E', coordinates='figure')\n",
    "plt.savefig(\"../graphs/wind/spherical.png\", dpi=150)\n",
    "plt.show()"
   ]
  },
  {
   "cell_type": "code",
   "execution_count": null,
   "metadata": {},
   "outputs": [],
   "source": [
    "plt.figure(figsize=(12, 8))\n",
    "plt.contourf(np.swapaxes(u[0], 0, 1))\n",
    "plt.colorbar()\n",
    "plt.show()"
   ]
  },
  {
   "cell_type": "code",
   "execution_count": null,
   "metadata": {},
   "outputs": [],
   "source": [
    "p = 5\n",
    "for t in range(0, 6000, 10):\n",
    "    h = np.loadtxt(f\"../outputs/patch{p}/h/h_{t*10}.txt\").reshape(NX, NY)\n",
    "    plt.contourf(h, levels=np.linspace(-1200, 1200, 12), extend='both')\n",
    "    cbar = plt.colorbar(pad=0.05)\n",
    "    cbar.set_ticks(np.linspace(-1200, 1200, 13))\n",
    "    plt.show()\n",
    "    plt.close()"
   ]
  },
  {
   "cell_type": "code",
   "execution_count": null,
   "metadata": {},
   "outputs": [],
   "source": [
    "NX = 45\n",
    "NY = 45\n",
    "DT = 360.\n",
    "lon = np.loadtxt(\"../outputs/grid/lon.txt\").reshape(6, NX, NY) * 180. / np.pi\n",
    "lat = np.loadtxt(\"../outputs/grid/lat.txt\").reshape(6, NX, NY) * 180. / np.pi\n",
    "\n",
    "lon4Panel = np.concatenate((lon[0], lon[1], lon[2], lon[3]), axis=0)\n",
    "lat4Panel = np.concatenate((lat[0], lat[1], lat[2], lat[3]), axis=0)\n",
    "\n",
    "x = np.loadtxt(\"../outputs/grid/x.txt\").reshape(6, NX, NY)\n",
    "y = np.loadtxt(\"../outputs/grid/y.txt\").reshape(6, NX, NY)\n",
    "count = 0\n",
    "for t in range(0, 6000, 10):\n",
    "    h = np.loadtxt(f\"../outputs/h/h_{t*10}.txt\").reshape(6, NX, NY)\n",
    "    # u = np.loadtxt(\"../outputs/u/u_0.txt\").reshape(6, NX, NY)\n",
    "    # v = np.loadtxt(\"../outputs/v/v_0.txt\").reshape(6, NX, NY)\n",
    "\n",
    "    h4panel = np.concatenate((h[0], h[1], h[2], h[3]), axis=0)\n",
    "    plt.figure(figsize=(18,8))\n",
    "    plt.xlabel(\"LON\")\n",
    "    plt.ylabel(\"LAT\")\n",
    "    plt.title(f\"t = {t * DT / 60} min\", fontsize=14)\n",
    "    # plt.contourf(lon4Panel, lat4Panel, h4panel)\n",
    "    # CF = plt.contourf(lon4Panel, lat4Panel, h4panel, levels=np.linspace(-1000, 3000,20), extend='both')\n",
    "    # cbar = plt.colorbar(pad=0.05)\n",
    "    # cbar.set_ticks(np.linspace(-1000, 3000,10))\n",
    "    plt.plot(h4panel[:, NX//2])\n",
    "    plt.ylim(-4000, 10000)\n",
    "    plt.savefig(f\"../graphs/test/h_1d/{count}.png\")\n",
    "    plt.close()\n",
    "    count += 1"
   ]
  },
  {
   "cell_type": "markdown",
   "metadata": {},
   "source": [
    "## 3D plot"
   ]
  }
 ],
 "metadata": {
  "interpreter": {
   "hash": "e72609c0a7db2dac87eb69b6e3eea5379b6dc1bb2c88836fd40789aaef8e86c1"
  },
  "kernelspec": {
   "display_name": "Python 3.8.12 ('base')",
   "language": "python",
   "name": "python3"
  },
  "language_info": {
   "codemirror_mode": {
    "name": "ipython",
    "version": 3
   },
   "file_extension": ".py",
   "mimetype": "text/x-python",
   "name": "python",
   "nbconvert_exporter": "python",
   "pygments_lexer": "ipython3",
   "version": "3.8.12"
  },
  "orig_nbformat": 4
 },
 "nbformat": 4,
 "nbformat_minor": 2
}
