{
 "cells": [
  {
   "cell_type": "markdown",
   "metadata": {},
   "source": [
    "## Import Package"
   ]
  },
  {
   "cell_type": "code",
   "execution_count": 2,
   "metadata": {},
   "outputs": [],
   "source": [
    "import matplotlib.pyplot as plt\n",
    "import numpy as np\n",
    "import matplotlib.cm as cm\n",
    "from mpl_toolkits.axes_grid1 import make_axes_locatable\n",
    "from mpl_toolkits.mplot3d import Axes3D"
   ]
  },
  {
   "cell_type": "code",
   "execution_count": null,
   "metadata": {},
   "outputs": [],
   "source": [
    "NX = 47\n",
    "NY = 47\n",
    "x, y = np.loadtxt(\"../outputs/grid/x_withghost.txt\").reshape(6, NX, NY), np.loadtxt(\"../outputs/grid//y_withghost.txt\").reshape(6, NX, NY)\n",
    "x_u, y_u = np.loadtxt(\"../outputs/grid//x_u_withghost.txt\").reshape(6, NX, NY), np.loadtxt(\"../outputs/grid//y_u_withghost.txt\").reshape(6, NX, NY)\n",
    "x_v, y_v = np.loadtxt(\"../outputs/grid//x_v_withghost.txt\").reshape(6, NX, NY), np.loadtxt(\"../outputs/grid//y_v_withghost.txt\").reshape(6, NX, NY)\n",
    "dx = (x[:, 1:, :] - x[:, :-1, :]).flatten()\n",
    "dx_u = (x_u[:, 1:, :] - x_u[:, :-1, :]).flatten()\n",
    "dx_v = (x_v[:, 1:, :] - x_v[:, :-1, :]).flatten()\n",
    "for tmp in dx_v:\n",
    "    if tmp < 100000:\n",
    "        print(\"Wrong\")"
   ]
  },
  {
   "cell_type": "markdown",
   "metadata": {},
   "source": [
    "## Advection"
   ]
  },
  {
   "cell_type": "markdown",
   "metadata": {},
   "source": [
    "### Sphere"
   ]
  },
  {
   "cell_type": "code",
   "execution_count": null,
   "metadata": {},
   "outputs": [],
   "source": [
    "NX = 45\n",
    "NY = 45\n",
    "DT = 360.\n",
    "\"\"\"\n",
    "lon = np.zeros([6, NX, NY])\n",
    "lat = np.zeros([6, NX, NY])\n",
    "x = np.zeros([6, NX, NY])\n",
    "y = np.zeros([6, NX, NY])\n",
    "for p in range(6):\n",
    "    lon[p] = (np.loadtxt(f\"../outputs/patch{p+1}/lon.txt\") * 180 / np.pi).reshape(NX, NY)\n",
    "    lat[p] = (np.loadtxt(f\"../outputs/patch{p+1}/lat.txt\") * 180 / np.pi).reshape(NX, NY)\n",
    "    x[p] = (np.loadtxt(f\"../outputs/patch{p+1}/x.txt\") * 180 / np.pi).reshape(NX, NY)\n",
    "    y[p] = (np.loadtxt(f\"../outputs/patch{p+1}/y.txt\") * 180 / np.pi).reshape(NX, NY)\n",
    "\"\"\"\n",
    "lon = np.loadtxt(\"../outputs/grid//lon.txt\").reshape(6, NX, NY) * 180. / np.pi\n",
    "lat = np.loadtxt(\"../outputs/grid/lat.txt\").reshape(6, NX, NY) * 180. / np.pi\n",
    "\n",
    "x = np.loadtxt(\"../outputs/grid/x.txt\").reshape(6, NX, NY)\n",
    "y = np.loadtxt(\"../outputs/grid/y.txt\").reshape(6, NX, NY)\n",
    "\n",
    "count = 0\n",
    "h = np.zeros([6, NX, NY])\n",
    "for t in range(0, 6000, 10):\n",
    "    h = np.loadtxt(f\"../outputs/h/h_{t*10}.txt\").reshape(6, NX, NY)\n",
    "\n",
    "    plt.figure(figsize=(18,8))\n",
    "    plt.xlabel(\"LON\")\n",
    "    plt.ylabel(\"LAT\")\n",
    "    plt.title(f\"t = {t * 10 * DT / 60} min\", fontsize=14)\n",
    "\n",
    "    plt.contourf(lon[0], lat[0], h[0], levels=np.linspace(-1200, 1200, 13), extend='both')\n",
    "    plt.contourf(lon[1], lat[1], h[1], levels=np.linspace(-1200, 1200, 13), extend='both')\n",
    "    plt.contourf(lon[2, 0:NX//2, :], lat[2, 0:NX//2, :], h[2, 0:NX//2, :], levels=np.linspace(-1200, 1200, 13), extend='both')\n",
    "    plt.contourf(lon[2, NX//2:, :]-360, lat[2, NX//2:, :], h[2, NX//2:, :], levels=np.linspace(-1200, 1200, 13), extend='both')\n",
    "    plt.contourf(lon[3]-360, lat[3], h[3], levels=np.linspace(-1200, 1200, 12), extend='both')\n",
    "    plt.contourf(lon[4], lat[4], h[4], levels=np.linspace(-1200, 1200, 13), extend='both')\n",
    "    plt.contourf(lon[5], lat[5], h[5], levels=np.linspace(-1200, 1200, 13), extend='both')\n",
    "    cbar = plt.colorbar(pad=0.05)\n",
    "    cbar.set_ticks(np.linspace(-1200, 1200, 13))\n",
    "\n",
    "    plt.savefig(f\"../graphs/h/sphere/{count}.png\", dpi=150)\n",
    "    plt.close()\n",
    "    count += 1\n"
   ]
  },
  {
   "cell_type": "markdown",
   "metadata": {},
   "source": [
    "### Curvilinear"
   ]
  },
  {
   "cell_type": "code",
   "execution_count": 1,
   "metadata": {},
   "outputs": [
    {
     "ename": "NameError",
     "evalue": "name 'np' is not defined",
     "output_type": "error",
     "traceback": [
      "\u001b[0;31m---------------------------------------------------------------------------\u001b[0m",
      "\u001b[0;31mNameError\u001b[0m                                 Traceback (most recent call last)",
      "\u001b[1;32m/Users/Aaron/CSWM/src/plot.ipynb Cell 7\u001b[0m in \u001b[0;36m<cell line: 4>\u001b[0;34m()\u001b[0m\n\u001b[1;32m      <a href='vscode-notebook-cell:/Users/Aaron/CSWM/src/plot.ipynb#ch0000006?line=1'>2</a>\u001b[0m NY \u001b[39m=\u001b[39m \u001b[39m45\u001b[39m\n\u001b[1;32m      <a href='vscode-notebook-cell:/Users/Aaron/CSWM/src/plot.ipynb#ch0000006?line=2'>3</a>\u001b[0m DT \u001b[39m=\u001b[39m \u001b[39m360.\u001b[39m\n\u001b[0;32m----> <a href='vscode-notebook-cell:/Users/Aaron/CSWM/src/plot.ipynb#ch0000006?line=3'>4</a>\u001b[0m lon \u001b[39m=\u001b[39m np\u001b[39m.\u001b[39mloadtxt(\u001b[39m\"\u001b[39m\u001b[39m../outputs/grid/lon.txt\u001b[39m\u001b[39m\"\u001b[39m)\u001b[39m.\u001b[39mreshape(\u001b[39m6\u001b[39m, NX, NY) \u001b[39m*\u001b[39m \u001b[39m180.\u001b[39m \u001b[39m/\u001b[39m np\u001b[39m.\u001b[39mpi\n\u001b[1;32m      <a href='vscode-notebook-cell:/Users/Aaron/CSWM/src/plot.ipynb#ch0000006?line=4'>5</a>\u001b[0m lat \u001b[39m=\u001b[39m np\u001b[39m.\u001b[39mloadtxt(\u001b[39m\"\u001b[39m\u001b[39m../outputs/grid/lat.txt\u001b[39m\u001b[39m\"\u001b[39m)\u001b[39m.\u001b[39mreshape(\u001b[39m6\u001b[39m, NX, NY) \u001b[39m*\u001b[39m \u001b[39m180.\u001b[39m \u001b[39m/\u001b[39m np\u001b[39m.\u001b[39mpi\n\u001b[1;32m      <a href='vscode-notebook-cell:/Users/Aaron/CSWM/src/plot.ipynb#ch0000006?line=6'>7</a>\u001b[0m x \u001b[39m=\u001b[39m np\u001b[39m.\u001b[39mloadtxt(\u001b[39m\"\u001b[39m\u001b[39m../outputs/grid/x.txt\u001b[39m\u001b[39m\"\u001b[39m)\u001b[39m.\u001b[39mreshape(\u001b[39m6\u001b[39m, NX, NY)\n",
      "\u001b[0;31mNameError\u001b[0m: name 'np' is not defined"
     ]
    }
   ],
   "source": [
    "NX = 45\n",
    "NY = 45\n",
    "DT = 360.\n",
    "lon = np.loadtxt(\"../outputs/grid/lon.txt\").reshape(6, NX, NY) * 180. / np.pi\n",
    "lat = np.loadtxt(\"../outputs/grid/lat.txt\").reshape(6, NX, NY) * 180. / np.pi\n",
    "\n",
    "x = np.loadtxt(\"../outputs/grid/x.txt\").reshape(6, NX, NY)\n",
    "y = np.loadtxt(\"../outputs/grid/y.txt\").reshape(6, NX, NY)\n",
    "\n",
    "count = 0\n",
    "h = np.zeros([6, NX, NY])\n",
    "for t in range(0, 6000, 10):\n",
    "    h = np.loadtxt(f\"../outputs/h/h_{t*10}.txt\").reshape(6, NX, NY)\n",
    "\n",
    "    fig = plt.figure(figsize=(18,10))\n",
    "    ax5 = fig.add_subplot(3,4,2)\n",
    "    ax4 = fig.add_subplot(3,4,5)\n",
    "    ax1 = fig.add_subplot(3,4,6)\n",
    "    ax2 = fig.add_subplot(3,4,7)\n",
    "    ax3 = fig.add_subplot(3,4,8)\n",
    "    ax6 = fig.add_subplot(3,4,10)\n",
    "    ax5.set_title(f\"t = {t * 10 * DT / 60} min\", fontsize=14)\n",
    "\n",
    "    ax1.contourf(x[0], y[0], h[0], levels=np.linspace(-1200, 1200, 13), extend='both')\n",
    "    ax2.contourf(x[1], y[1], h[1], levels=np.linspace(-1200, 1200, 13), extend='both')\n",
    "    ax3.contourf(x[2], y[2], h[2], levels=np.linspace(-1200, 1200, 13), extend='both')\n",
    "    ax4.contourf(x[3], y[3], h[3], levels=np.linspace(-1200, 1200, 13), extend='both')\n",
    "    ax5.contourf(x[4], y[4], h[4], levels=np.linspace(-1200, 1200, 13), extend='both')\n",
    "    ax6.contourf(x[5], y[5], h[5], levels=np.linspace(-1200, 1200, 13), extend='both')\n",
    "\n",
    "    plt.savefig(f\"../graphs/h/curvilinear/{count}.png\", dpi=150)\n",
    "    plt.close()\n",
    "    count += 1"
   ]
  },
  {
   "cell_type": "markdown",
   "metadata": {},
   "source": [
    "## Geostrophy"
   ]
  },
  {
   "cell_type": "markdown",
   "metadata": {},
   "source": [
    "### Sphere"
   ]
  },
  {
   "cell_type": "code",
   "execution_count": 4,
   "metadata": {},
   "outputs": [
    {
     "ename": "OSError",
     "evalue": "../outputs/h/h_14400.txt not found.",
     "output_type": "error",
     "traceback": [
      "\u001b[0;31m---------------------------------------------------------------------------\u001b[0m",
      "\u001b[0;31mOSError\u001b[0m                                   Traceback (most recent call last)",
      "\u001b[1;32m/Users/Aaron/CSWM/src/plot.ipynb Cell 11\u001b[0m in \u001b[0;36m<cell line: 14>\u001b[0;34m()\u001b[0m\n\u001b[1;32m     <a href='vscode-notebook-cell:/Users/Aaron/CSWM/src/plot.ipynb#ch0000009?line=12'>13</a>\u001b[0m leap \u001b[39m=\u001b[39m \u001b[39m80\u001b[39m\n\u001b[1;32m     <a href='vscode-notebook-cell:/Users/Aaron/CSWM/src/plot.ipynb#ch0000009?line=13'>14</a>\u001b[0m \u001b[39mfor\u001b[39;00m t \u001b[39min\u001b[39;00m \u001b[39mrange\u001b[39m(\u001b[39m0\u001b[39m, \u001b[39m6000\u001b[39m, \u001b[39m10\u001b[39m):\n\u001b[0;32m---> <a href='vscode-notebook-cell:/Users/Aaron/CSWM/src/plot.ipynb#ch0000009?line=15'>16</a>\u001b[0m     h \u001b[39m=\u001b[39m np\u001b[39m.\u001b[39;49mloadtxt(\u001b[39mf\u001b[39;49m\u001b[39m\"\u001b[39;49m\u001b[39m../outputs/h/h_\u001b[39;49m\u001b[39m{\u001b[39;49;00mt\u001b[39m*\u001b[39;49mleap\u001b[39m}\u001b[39;49;00m\u001b[39m.txt\u001b[39;49m\u001b[39m\"\u001b[39;49m)\u001b[39m.\u001b[39mreshape(\u001b[39m6\u001b[39m, NX, NY)\n\u001b[1;32m     <a href='vscode-notebook-cell:/Users/Aaron/CSWM/src/plot.ipynb#ch0000009?line=16'>17</a>\u001b[0m     u \u001b[39m=\u001b[39m np\u001b[39m.\u001b[39mloadtxt(\u001b[39mf\u001b[39m\u001b[39m\"\u001b[39m\u001b[39m../outputs/u_lon_lat/u_lon_lat_\u001b[39m\u001b[39m{\u001b[39;00mt\u001b[39m*\u001b[39mleap\u001b[39m}\u001b[39;00m\u001b[39m.txt\u001b[39m\u001b[39m\"\u001b[39m)\u001b[39m.\u001b[39mreshape(\u001b[39m6\u001b[39m, NX, NY)\n\u001b[1;32m     <a href='vscode-notebook-cell:/Users/Aaron/CSWM/src/plot.ipynb#ch0000009?line=17'>18</a>\u001b[0m     v \u001b[39m=\u001b[39m np\u001b[39m.\u001b[39mloadtxt(\u001b[39mf\u001b[39m\u001b[39m\"\u001b[39m\u001b[39m../outputs/v_lon_lat/v_lon_lat_\u001b[39m\u001b[39m{\u001b[39;00mt\u001b[39m*\u001b[39mleap\u001b[39m}\u001b[39;00m\u001b[39m.txt\u001b[39m\u001b[39m\"\u001b[39m)\u001b[39m.\u001b[39mreshape(\u001b[39m6\u001b[39m, NX, NY)\n",
      "File \u001b[0;32m~/miniconda3/lib/python3.8/site-packages/numpy/lib/npyio.py:1067\u001b[0m, in \u001b[0;36mloadtxt\u001b[0;34m(fname, dtype, comments, delimiter, converters, skiprows, usecols, unpack, ndmin, encoding, max_rows, like)\u001b[0m\n\u001b[1;32m   1065\u001b[0m     fname \u001b[39m=\u001b[39m os_fspath(fname)\n\u001b[1;32m   1066\u001b[0m \u001b[39mif\u001b[39;00m _is_string_like(fname):\n\u001b[0;32m-> 1067\u001b[0m     fh \u001b[39m=\u001b[39m np\u001b[39m.\u001b[39;49mlib\u001b[39m.\u001b[39;49m_datasource\u001b[39m.\u001b[39;49mopen(fname, \u001b[39m'\u001b[39;49m\u001b[39mrt\u001b[39;49m\u001b[39m'\u001b[39;49m, encoding\u001b[39m=\u001b[39;49mencoding)\n\u001b[1;32m   1068\u001b[0m     fencoding \u001b[39m=\u001b[39m \u001b[39mgetattr\u001b[39m(fh, \u001b[39m'\u001b[39m\u001b[39mencoding\u001b[39m\u001b[39m'\u001b[39m, \u001b[39m'\u001b[39m\u001b[39mlatin1\u001b[39m\u001b[39m'\u001b[39m)\n\u001b[1;32m   1069\u001b[0m     fh \u001b[39m=\u001b[39m \u001b[39miter\u001b[39m(fh)\n",
      "File \u001b[0;32m~/miniconda3/lib/python3.8/site-packages/numpy/lib/_datasource.py:193\u001b[0m, in \u001b[0;36mopen\u001b[0;34m(path, mode, destpath, encoding, newline)\u001b[0m\n\u001b[1;32m    156\u001b[0m \u001b[39m\"\"\"\u001b[39;00m\n\u001b[1;32m    157\u001b[0m \u001b[39mOpen `path` with `mode` and return the file object.\u001b[39;00m\n\u001b[1;32m    158\u001b[0m \n\u001b[0;32m   (...)\u001b[0m\n\u001b[1;32m    189\u001b[0m \n\u001b[1;32m    190\u001b[0m \u001b[39m\"\"\"\u001b[39;00m\n\u001b[1;32m    192\u001b[0m ds \u001b[39m=\u001b[39m DataSource(destpath)\n\u001b[0;32m--> 193\u001b[0m \u001b[39mreturn\u001b[39;00m ds\u001b[39m.\u001b[39;49mopen(path, mode, encoding\u001b[39m=\u001b[39;49mencoding, newline\u001b[39m=\u001b[39;49mnewline)\n",
      "File \u001b[0;32m~/miniconda3/lib/python3.8/site-packages/numpy/lib/_datasource.py:533\u001b[0m, in \u001b[0;36mDataSource.open\u001b[0;34m(self, path, mode, encoding, newline)\u001b[0m\n\u001b[1;32m    530\u001b[0m     \u001b[39mreturn\u001b[39;00m _file_openers[ext](found, mode\u001b[39m=\u001b[39mmode,\n\u001b[1;32m    531\u001b[0m                               encoding\u001b[39m=\u001b[39mencoding, newline\u001b[39m=\u001b[39mnewline)\n\u001b[1;32m    532\u001b[0m \u001b[39melse\u001b[39;00m:\n\u001b[0;32m--> 533\u001b[0m     \u001b[39mraise\u001b[39;00m \u001b[39mIOError\u001b[39;00m(\u001b[39m\"\u001b[39m\u001b[39m%s\u001b[39;00m\u001b[39m not found.\u001b[39m\u001b[39m\"\u001b[39m \u001b[39m%\u001b[39m path)\n",
      "\u001b[0;31mOSError\u001b[0m: ../outputs/h/h_14400.txt not found."
     ]
    }
   ],
   "source": [
    "NX = 45\n",
    "NY = 45\n",
    "DT = 360.\n",
    "# DT = 100\n",
    "lon = np.loadtxt(\"../outputs/grid/lon.txt\").reshape(6, NX, NY) * 180. / np.pi\n",
    "lat = np.loadtxt(\"../outputs/grid/lat.txt\").reshape(6, NX, NY) * 180. / np.pi\n",
    "\n",
    "x = np.loadtxt(\"../outputs/grid/x.txt\").reshape(6, NX, NY)\n",
    "y = np.loadtxt(\"../outputs/grid/y.txt\").reshape(6, NX, NY)\n",
    "\n",
    "count = 0\n",
    "h = np.zeros([6, NX, NY])\n",
    "leap = 80\n",
    "for t in range(0, 6000, 10):\n",
    "\n",
    "    h = np.loadtxt(f\"../outputs/h/h_{t*leap}.txt\").reshape(6, NX, NY)\n",
    "    u = np.loadtxt(f\"../outputs/u_lon_lat/u_lon_lat_{t*leap}.txt\").reshape(6, NX, NY)\n",
    "    v = np.loadtxt(f\"../outputs/v_lon_lat/v_lon_lat_{t*leap}.txt\").reshape(6, NX, NY)\n",
    "\n",
    "    plt.figure(figsize=(18,8))\n",
    "    plt.xlabel(\"LON\")\n",
    "    plt.ylabel(\"LAT\")\n",
    "    plt.title(f\"t = {t * leap * DT / 60} min\", fontsize=14)\n",
    "\n",
    "    plt.contourf(lon[0], lat[0], h[0], levels=np.linspace(-1, 1, 9), extend='both')\n",
    "    plt.contourf(lon[1], lat[1], h[1], levels=np.linspace(-1, 1, 9), extend='both')\n",
    "    plt.contourf(lon[2, 0:NX//2, :], lat[2, 0:NX//2, :], h[2, 0:NX//2, :], levels=np.linspace(-1, 1, 9), extend='both')\n",
    "    plt.contourf(lon[2, NX//2:, :]-360, lat[2, NX//2:, :], h[2, NX//2:, :], levels=np.linspace(-1, 1, 9), extend='both')\n",
    "    plt.contourf(lon[3]-360, lat[3], h[3], levels=np.linspace(-1, 1, 9), extend='both')\n",
    "    plt.contourf(lon[4], lat[4], h[4], levels=np.linspace(-1, 1, 9), extend='both')\n",
    "    plt.contourf(lon[5], lat[5], h[5], levels=np.linspace(-1, 1, 9), extend='both')\n",
    "    cbar = plt.colorbar(pad=0.05)\n",
    "    cbar.set_ticks(np.linspace(-1, 1, 9))\n",
    "\n",
    "    # plt.contourf(lon[0], lat[0], h[0], extend='both')\n",
    "    # plt.contourf(lon[1], lat[1], h[1], extend='both')\n",
    "    # plt.contourf(lon[2, 0:NX//2, :], lat[2, 0:NX//2, :], h[2, 0:NX//2, :], extend='both')\n",
    "    # plt.contourf(lon[2, NX//2:, :]-360, lat[2, NX//2:, :], h[2, NX//2:, :], extend='both')\n",
    "    # plt.contourf(lon[3]-360, lat[3], h[3], extend='both')\n",
    "    # plt.contourf(lon[4], lat[4], h[4], extend='both')\n",
    "    # plt.contourf(lon[5], lat[5], h[5], extend='both')\n",
    "    # cbar = plt.colorbar(pad=0.05)\n",
    "    # cbar.set_ticks(np.linspace(-12, 12, 13))\n",
    "\n",
    "    plt.quiver(lon[0][::2, ::2], lat[0][::2, ::2], u[0][::2, ::2], v[0][::2, ::2], angles='xy', units=\"width\", scale=100)\n",
    "    plt.quiver(lon[1][::2, ::2], lat[1][::2, ::2], u[1][::2, ::2], v[1][::2, ::2], angles='xy', units=\"width\", scale=100)\n",
    "    plt.quiver(lon[2, 0:NX//2, :][::2, ::2], lat[2, 0:NX//2, :][::2, ::2], u[2, 0:NX//2, :][::2, ::2], v[2, 0:NX//2, :][::2, ::2], angles='xy', units=\"width\", scale=100)\n",
    "    plt.quiver(lon[2, NX//2:, :][::2, ::2]-360, lat[2, NX//2:, :][::2, ::2], u[2, NX//2:, :][::2, ::2], v[2, NX//2:, :][::2, ::2], angles='xy', units=\"width\", scale=100)\n",
    "    plt.quiver(lon[3][::2, ::2]-360, lat[3][::2, ::2], u[3][::2, ::2], v[3][::2, ::2], angles='xy', units=\"width\", scale=100)\n",
    "    plt.quiver(lon[4][::2, ::2], lat[4][::2, ::2], u[4][::2, ::2], v[4][::2, ::2], angles='xy', units=\"width\", scale=100)\n",
    "    Q = plt.quiver(lon[5][::2, ::2], lat[5][::2, ::2], u[5][::2, ::2], v[5][::2, ::2], angles='xy', units=\"width\", scale=100)\n",
    "    qk = plt.quiverkey(Q, 0.7, 0.9, 0.5, r'$5 \\frac{m}{s}$', labelpos='E', coordinates='figure')\n",
    "\n",
    "    plt.savefig(f\"../graphs/h/sphere/{count}.png\", dpi=150)\n",
    "    plt.close()\n",
    "    count += 1\n"
   ]
  },
  {
   "cell_type": "markdown",
   "metadata": {},
   "source": [
    "### Curvilinear"
   ]
  },
  {
   "cell_type": "code",
   "execution_count": 3,
   "metadata": {},
   "outputs": [
    {
     "ename": "NameError",
     "evalue": "name 'Q' is not defined",
     "output_type": "error",
     "traceback": [
      "\u001b[0;31m---------------------------------------------------------------------------\u001b[0m",
      "\u001b[0;31mNameError\u001b[0m                                 Traceback (most recent call last)",
      "\u001b[1;32m/Users/Aaron/CSWM/src/plot.ipynb Cell 13\u001b[0m in \u001b[0;36m<cell line: 13>\u001b[0;34m()\u001b[0m\n\u001b[1;32m     <a href='vscode-notebook-cell:/Users/Aaron/CSWM/src/plot.ipynb#ch0000011?line=44'>45</a>\u001b[0m ax5\u001b[39m.\u001b[39mquiver(x[\u001b[39m4\u001b[39m], y[\u001b[39m4\u001b[39m], u[\u001b[39m4\u001b[39m], v[\u001b[39m4\u001b[39m], angles\u001b[39m=\u001b[39m\u001b[39m'\u001b[39m\u001b[39mxy\u001b[39m\u001b[39m'\u001b[39m, units\u001b[39m=\u001b[39m\u001b[39m\"\u001b[39m\u001b[39mwidth\u001b[39m\u001b[39m\"\u001b[39m, scale\u001b[39m=\u001b[39m\u001b[39m100\u001b[39m)\n\u001b[1;32m     <a href='vscode-notebook-cell:/Users/Aaron/CSWM/src/plot.ipynb#ch0000011?line=45'>46</a>\u001b[0m ax6\u001b[39m.\u001b[39mquiver(x[\u001b[39m5\u001b[39m], y[\u001b[39m5\u001b[39m], u[\u001b[39m5\u001b[39m], v[\u001b[39m5\u001b[39m], angles\u001b[39m=\u001b[39m\u001b[39m'\u001b[39m\u001b[39mxy\u001b[39m\u001b[39m'\u001b[39m, units\u001b[39m=\u001b[39m\u001b[39m\"\u001b[39m\u001b[39mwidth\u001b[39m\u001b[39m\"\u001b[39m, scale\u001b[39m=\u001b[39m\u001b[39m100\u001b[39m)\n\u001b[0;32m---> <a href='vscode-notebook-cell:/Users/Aaron/CSWM/src/plot.ipynb#ch0000011?line=47'>48</a>\u001b[0m ax1\u001b[39m.\u001b[39mquiverkey(Q, \u001b[39m0.7\u001b[39m, \u001b[39m0.9\u001b[39m, \u001b[39m0.5\u001b[39m, \u001b[39mr\u001b[39m\u001b[39m'\u001b[39m\u001b[39m$0.5 \u001b[39m\u001b[39m\\\u001b[39m\u001b[39mfrac\u001b[39m\u001b[39m{m}\u001b[39;00m\u001b[39m{s}\u001b[39;00m\u001b[39m$\u001b[39m\u001b[39m'\u001b[39m, labelpos\u001b[39m=\u001b[39m\u001b[39m'\u001b[39m\u001b[39mE\u001b[39m\u001b[39m'\u001b[39m, coordinates\u001b[39m=\u001b[39m\u001b[39m'\u001b[39m\u001b[39mfigure\u001b[39m\u001b[39m'\u001b[39m)  \n\u001b[1;32m     <a href='vscode-notebook-cell:/Users/Aaron/CSWM/src/plot.ipynb#ch0000011?line=48'>49</a>\u001b[0m ax2\u001b[39m.\u001b[39mquiverkey(Q, \u001b[39m0.7\u001b[39m, \u001b[39m0.9\u001b[39m, \u001b[39m0.5\u001b[39m, \u001b[39mr\u001b[39m\u001b[39m'\u001b[39m\u001b[39m$0.5 \u001b[39m\u001b[39m\\\u001b[39m\u001b[39mfrac\u001b[39m\u001b[39m{m}\u001b[39;00m\u001b[39m{s}\u001b[39;00m\u001b[39m$\u001b[39m\u001b[39m'\u001b[39m, labelpos\u001b[39m=\u001b[39m\u001b[39m'\u001b[39m\u001b[39mE\u001b[39m\u001b[39m'\u001b[39m, coordinates\u001b[39m=\u001b[39m\u001b[39m'\u001b[39m\u001b[39mfigure\u001b[39m\u001b[39m'\u001b[39m)  \n\u001b[1;32m     <a href='vscode-notebook-cell:/Users/Aaron/CSWM/src/plot.ipynb#ch0000011?line=49'>50</a>\u001b[0m ax3\u001b[39m.\u001b[39mquiverkey(Q, \u001b[39m0.7\u001b[39m, \u001b[39m0.9\u001b[39m, \u001b[39m0.5\u001b[39m, \u001b[39mr\u001b[39m\u001b[39m'\u001b[39m\u001b[39m$0.5 \u001b[39m\u001b[39m\\\u001b[39m\u001b[39mfrac\u001b[39m\u001b[39m{m}\u001b[39;00m\u001b[39m{s}\u001b[39;00m\u001b[39m$\u001b[39m\u001b[39m'\u001b[39m, labelpos\u001b[39m=\u001b[39m\u001b[39m'\u001b[39m\u001b[39mE\u001b[39m\u001b[39m'\u001b[39m, coordinates\u001b[39m=\u001b[39m\u001b[39m'\u001b[39m\u001b[39mfigure\u001b[39m\u001b[39m'\u001b[39m)  \n",
      "\u001b[0;31mNameError\u001b[0m: name 'Q' is not defined"
     ]
    },
    {
     "data": {
      "image/png": "[encoded data removed]",
      "text/plain": [
       "<Figure size 1296x720 with 6 Axes>"
      ]
     },
     "metadata": {
      "needs_background": "light"
     },
     "output_type": "display_data"
    }
   ],
   "source": [
    "NX = 45\n",
    "NY = 45\n",
    "DT = 360.\n",
    "lon = np.loadtxt(\"../outputs/grid/lon.txt\").reshape(6, NX, NY) * 180. / np.pi\n",
    "lat = np.loadtxt(\"../outputs/grid/lat.txt\").reshape(6, NX, NY) * 180. / np.pi\n",
    "\n",
    "x = np.loadtxt(\"../outputs/grid/x.txt\").reshape(6, NX, NY)\n",
    "y = np.loadtxt(\"../outputs/grid/y.txt\").reshape(6, NX, NY)\n",
    "\n",
    "count = 0\n",
    "leap = 80\n",
    "h = np.zeros([6, NX, NY])\n",
    "for t in range(0, 6000, 10):\n",
    "    h = np.loadtxt(f\"../outputs/h/h_{t*leap}.txt\").reshape(6, NX, NY)\n",
    "    u = np.loadtxt(f\"../outputs/u/u_{t*leap}.txt\").reshape(6, NX, NY)\n",
    "    v = np.loadtxt(f\"../outputs/v/v_{t*leap}.txt\").reshape(6, NX, NY)\n",
    "\n",
    "    fig = plt.figure(figsize=(18,10))\n",
    "    ax5 = fig.add_subplot(3,4,2)\n",
    "    ax4 = fig.add_subplot(3,4,5)\n",
    "    ax1 = fig.add_subplot(3,4,6)\n",
    "    ax2 = fig.add_subplot(3,4,7)\n",
    "    ax3 = fig.add_subplot(3,4,8)\n",
    "    ax6 = fig.add_subplot(3,4,10)\n",
    "    ax5.set_title(f\"t = {t * leap * DT / 60} min\", fontsize=14)\n",
    "\n",
    "    ax1.contourf(x[0], y[0], h[0], levels=np.linspace(-1, 1, 9), extend='both')\n",
    "    ax2.contourf(x[1], y[1], h[1], levels=np.linspace(-1, 1, 9), extend='both')\n",
    "    ax3.contourf(x[2], y[2], h[2], levels=np.linspace(-1, 1, 9), extend='both')\n",
    "    ax4.contourf(x[3], y[3], h[3], levels=np.linspace(-1, 1, 9), extend='both')\n",
    "    ax5.contourf(x[4], y[4], h[4], levels=np.linspace(-1, 1, 9), extend='both')\n",
    "    ax6.contourf(x[5], y[5], h[5], levels=np.linspace(-1, 1, 9), extend='both')\n",
    "\n",
    "    # ax1.contourf(x[0], y[0], h[0], extend='both')\n",
    "    # ax2.contourf(x[1], y[1], h[1], extend='both')\n",
    "    # ax3.contourf(x[2], y[2], h[2], extend='both')\n",
    "    # ax4.contourf(x[3], y[3], h[3], extend='both')\n",
    "    # ax5.contourf(x[4], y[4], h[4], extend='both')\n",
    "    # ax6.contourf(x[5], y[5], h[5], extend='both')\n",
    "\n",
    "    ax1.quiver(x[0], y[0], u[0], v[0], angles='xy', units=\"width\", scale=100)\n",
    "    ax2.quiver(x[1], y[1], u[1], v[1], angles='xy', units=\"width\", scale=100)\n",
    "    ax3.quiver(x[2], y[2], u[2], v[2], angles='xy', units=\"width\", scale=100)\n",
    "    ax4.quiver(x[3], y[3], u[3], v[3], angles='xy', units=\"width\", scale=100)\n",
    "    ax5.quiver(x[4], y[4], u[4], v[4], angles='xy', units=\"width\", scale=100)\n",
    "    ax6.quiver(x[5], y[5], u[5], v[5], angles='xy', units=\"width\", scale=100)\n",
    "\n",
    "    ax1.quiverkey(Q, 0.7, 0.9, 0.5, r'$0.5 \\frac{m}{s}$', labelpos='E', coordinates='figure')  \n",
    "    ax2.quiverkey(Q, 0.7, 0.9, 0.5, r'$0.5 \\frac{m}{s}$', labelpos='E', coordinates='figure')  \n",
    "    ax3.quiverkey(Q, 0.7, 0.9, 0.5, r'$0.5 \\frac{m}{s}$', labelpos='E', coordinates='figure')  \n",
    "    ax4.quiverkey(Q, 0.7, 0.9, 0.5, r'$0.5 \\frac{m}{s}$', labelpos='E', coordinates='figure')  \n",
    "    ax5.quiverkey(Q, 0.7, 0.9, 0.5, r'$0.5 \\frac{m}{s}$', labelpos='E', coordinates='figure')  \n",
    "    ax6.quiverkey(Q, 0.7, 0.9, 0.5, r'$0.5 \\frac{m}{s}$', labelpos='E', coordinates='figure')   \n",
    "    \n",
    "    plt.savefig(f\"../graphs/h/curvilinear/{count}.png\", dpi=150)\n",
    "    plt.close()\n",
    "    count += 1"
   ]
  },
  {
   "cell_type": "code",
   "execution_count": 71,
   "metadata": {},
   "outputs": [
    {
     "data": {
      "image/png": "[encoded data removed]",
      "text/plain": [
       "<Figure size 432x288 with 1 Axes>"
      ]
     },
     "metadata": {
      "needs_background": "light"
     },
     "output_type": "display_data"
    },
    {
     "name": "stdout",
     "output_type": "stream",
     "text": [
      "-4.21054e-57\n"
     ]
    }
   ],
   "source": [
    "t = 10\n",
    "h = np.loadtxt(f\"../outputs/h/h_{t*10}.txt\").reshape(6, NX, NY)\n",
    "u = np.loadtxt(f\"../outputs/u/u_{10*t}.txt\").reshape(6, NX, NY)\n",
    "v = np.loadtxt(f\"../outputs/v/v_{10*t}.txt\").reshape(6, NX, NY)\n",
    "plt.quiver(x[3], y[3], u[3], v[3])\n",
    "plt.show()\n",
    "print(np.min(u[3]))"
   ]
  },
  {
   "cell_type": "markdown",
   "metadata": {},
   "source": [
    "##### 1d wind"
   ]
  },
  {
   "cell_type": "code",
   "execution_count": null,
   "metadata": {},
   "outputs": [],
   "source": [
    "NX = 45\n",
    "NY = 45\n",
    "DT = 360.\n",
    "lon = np.loadtxt(\"../outputs/grid/lon.txt\").reshape(6, NX, NY) * 180. / np.pi\n",
    "lat = np.loadtxt(\"../outputs/grid/lat.txt\").reshape(6, NX, NY) * 180. / np.pi\n",
    "\n",
    "x = np.loadtxt(\"../outputs/grid/x.txt\").reshape(6, NX, NY)\n",
    "y = np.loadtxt(\"../outputs/grid/y.txt\").reshape(6, NX, NY)\n",
    "\n",
    "count = 0\n",
    "h = np.zeros([6, NX, NY])\n",
    "for t in range(0, 6000, 10):\n",
    "    h = np.loadtxt(f\"../outputs/h/h_{t*10}.txt\").reshape(6, NX, NY)\n",
    "    u = np.loadtxt(f\"../outputs/u/u_{10*t}.txt\").reshape(6, NX, NY)\n",
    "    v = np.loadtxt(f\"../outputs/v/v_{10*t}.txt\").reshape(6, NX, NY)\n",
    "\n",
    "    # fig = plt.figure(figsize=(18,10))\n",
    "    # ax5 = fig.add_subplot(3,4,2)\n",
    "    # ax4 = fig.add_subplot(3,4,5)\n",
    "    # ax1 = fig.add_subplot(3,4,6)\n",
    "    # ax2 = fig.add_subplot(3,4,7)\n",
    "    # ax3 = fig.add_subplot(3,4,8)\n",
    "    # ax6 = fig.add_subplot(3,4,10)\n",
    "    # ax5.set_title(f\"t = {t * 10 * DT / 60} min\", fontsize=14)\n",
    "\n",
    "    # ax1.contourf(x[0], y[0], u[0], levels=np.linspace(-12, 12, 13), extend='both')\n",
    "    # ax2.contourf(x[1], y[1], u[1], levels=np.linspace(-12, 12, 13), extend='both')\n",
    "    # ax3.contourf(x[2], y[2], u[2], levels=np.linspace(-12, 12, 13), extend='both')\n",
    "    # ax4.contourf(x[3], y[3], u[3], levels=np.linspace(-12, 12, 13), extend='both')\n",
    "    # ax5.contourf(x[4], y[4], u[4], levels=np.linspace(-12, 12, 13), extend='both')\n",
    "    # ax6.contourf(x[5], y[5], u[5], levels=np.linspace(-12, 12, 13), extend='both')\n",
    "    plt.plot(x[0, :, NY//2], u[0, :, NY//2])\n",
    "\n",
    "    # ax1.contourf(x[0], y[0], h[0], extend='both')\n",
    "    # ax2.contourf(x[1], y[1], h[1], extend='both')\n",
    "    # ax3.contourf(x[2], y[2], h[2], extend='both')\n",
    "    # ax4.contourf(x[3], y[3], h[3], extend='both')\n",
    "    # ax5.contourf(x[4], y[4], h[4], extend='both')\n",
    "    # ax6.contourf(x[5], y[5], h[5], extend='both')\n",
    "\n",
    "    # ax1.quiver(x[0], y[0], u[0], v[0])\n",
    "    # ax2.quiver(x[1], y[1], u[1], v[1])\n",
    "    # ax3.quiver(x[2], y[2], u[2], v[2])\n",
    "    # ax4.quiver(x[3], y[3], u[3], v[3])\n",
    "    # ax5.quiver(x[4], y[4], u[4], v[4])\n",
    "    # ax6.quiver(x[5], y[5], u[5], v[5])   \n",
    "\n",
    "    plt.savefig(f\"../graphs/wind/{count}.png\", dpi=150)\n",
    "    plt.close()\n",
    "    count += 1"
   ]
  },
  {
   "cell_type": "code",
   "execution_count": null,
   "metadata": {},
   "outputs": [],
   "source": []
  },
  {
   "cell_type": "markdown",
   "metadata": {},
   "source": [
    "## Wind plot"
   ]
  },
  {
   "cell_type": "markdown",
   "metadata": {},
   "source": [
    "#### x/y"
   ]
  },
  {
   "cell_type": "code",
   "execution_count": null,
   "metadata": {},
   "outputs": [],
   "source": [
    "NX = 45\n",
    "NY = 45\n",
    "DT = 360\n",
    "u = np.loadtxt(\"../outputs/u/u_0.txt\").reshape(6, NX, NY)\n",
    "v = np.loadtxt(\"../outputs/v/v_0.txt\").reshape(6, NX, NY)\n",
    "x = np.loadtxt(\"../outputs/grid/x.txt\").reshape(6, NX, NY)\n",
    "y = np.loadtxt(\"../outputs/grid/y.txt\").reshape(6, NX, NY)\n",
    "lon = np.loadtxt(\"../outputs/grid/lon.txt\").reshape(6, NX, NY) * 180. / np.pi\n",
    "lat = np.loadtxt(\"../outputs/grid/lat.txt\").reshape(6, NX, NY) * 180. / np.pi\n",
    "\n",
    "fig = plt.figure(figsize=(18, 10))\n",
    "ax5 = fig.add_subplot(342)\n",
    "ax4 = fig.add_subplot(345)\n",
    "ax1 = fig.add_subplot(346)\n",
    "ax2 = fig.add_subplot(347)\n",
    "ax3 = fig.add_subplot(348)\n",
    "ax6 = fig.add_subplot(3,4,10)\n",
    "\n",
    "ax1.quiver(x[0][::2, ::2], y[0][::2, ::2], u[0][::2, ::2], v[0][::2, ::2], angles='xy', units=\"width\", scale=1000)\n",
    "ax2.quiver(x[1][::2, ::2], y[1][::2, ::2], u[1][::2, ::2], v[1][::2, ::2], angles='xy', units=\"width\", scale=1000)\n",
    "ax3.quiver(x[2][::2, ::2], y[2][::2, ::2], u[2][::2, ::2], v[2][::2, ::2], angles='xy', units=\"width\", scale=1000)\n",
    "ax4.quiver(x[3][::2, ::2], y[3][::2, ::2], u[3][::2, ::2], v[3][::2, ::2], angles='xy', units=\"width\", scale=1000)\n",
    "Q = ax5.quiver(x[4][::2, ::2], y[4][::2, ::2], u[4][::2, ::2], v[4][::2, ::2], angles='xy', units=\"width\", scale=1000)\n",
    "ax6.quiver(x[5][::2, ::2], y[5][::2, ::2], u[5][::2, ::2], v[5][::2, ::2], angles='xy', units=\"width\", scale=1000)\n",
    "qk = plt.quiverkey(Q, 0.48, 0.975, 30, r'$30 \\frac{m}{s}$', labelpos='E', coordinates='figure')\n",
    "ax5.set_title(\"Curvilinear Coordinate\")\n",
    "plt.tight_layout()\n",
    "plt.savefig(\"../graphs/wind/curvilinear.png\", dpi=150)\n",
    "plt.show()"
   ]
  },
  {
   "cell_type": "markdown",
   "metadata": {},
   "source": [
    "#### lon/lat"
   ]
  },
  {
   "cell_type": "code",
   "execution_count": null,
   "metadata": {},
   "outputs": [],
   "source": [
    "NX = 45\n",
    "NY = 45\n",
    "DT = 360.\n",
    "u = np.loadtxt(\"../outputs/u_lon_lat/u_lon_lat_0.txt\").reshape(6, NX, NY)\n",
    "v = np.loadtxt(\"../outputs/v_lon_lat/v_lon_lat_0.txt\").reshape(6, NX, NY)\n",
    "lon = np.loadtxt(\"../outputs/grid/lon.txt\").reshape(6, NX, NY) * 180. / np.pi\n",
    "lat = np.loadtxt(\"../outputs/grid/lat.txt\").reshape(6, NX, NY) * 180. / np.pi\n",
    "\n",
    "plt.figure(figsize=(18, 12))\n",
    "plt.title(\"Spherical Coordinate\")\n",
    "size = 2\n",
    "plt.quiver(lon[0][::size, ::size], lat[0][::size, ::size], u[0][::size, ::size], v[0][::size, ::size], scale=1500)\n",
    "plt.quiver(lon[1][::size, ::size], lat[1][::size, ::size], u[1][::size, ::size], v[1][::size, ::size], scale=1500)\n",
    "plt.quiver(lon[2, 0:NX//2, :][::size, ::size], lat[2, 0:NX//2, :][::size, ::size], u[2, 0:NX//2, :][::size, ::size], v[2, 0:NX//2, :][::size, ::size], scale=1500)\n",
    "plt.quiver(lon[2, NX//2:, :][::size, ::size]-360, lat[2, NX//2:, :][::size, ::size], u[2, NX//2:, :][::size, ::size], v[2, NX//2:, :][::size, ::size], scale=1500)\n",
    "plt.quiver(lon[3][::size, ::size]-360, lat[3][::size, ::size], u[3][::size, ::size], v[3][::size, ::size], scale=1500)\n",
    "plt.quiver(lon[4][::size, ::size], lat[4][::size, ::size], u[4][::size, ::size], v[4][::size, ::size], scale=1500)\n",
    "Q = plt.quiver(lon[5][::size, ::size], lat[5][::size, ::size], u[5][::size, ::size], v[5][::size, ::size], scale=1500)\n",
    "qk = plt.quiverkey(Q, 0.83, 0.89, 40, r'$40 \\frac{m}{s}$', labelpos='E', coordinates='figure')\n",
    "plt.savefig(\"../graphs/wind/spherical.png\", dpi=150)\n",
    "plt.show()"
   ]
  },
  {
   "cell_type": "code",
   "execution_count": null,
   "metadata": {},
   "outputs": [],
   "source": [
    "plt.figure(figsize=(12, 8))\n",
    "plt.contourf(np.swapaxes(u[0], 0, 1))\n",
    "plt.colorbar()\n",
    "plt.show()"
   ]
  },
  {
   "cell_type": "code",
   "execution_count": null,
   "metadata": {},
   "outputs": [],
   "source": [
    "p = 5\n",
    "for t in range(0, 6000, 10):\n",
    "    h = np.loadtxt(f\"../outputs/patch{p}/h/h_{t*10}.txt\").reshape(NX, NY)\n",
    "    plt.contourf(h, levels=np.linspace(-1200, 1200, 12), extend='both')\n",
    "    cbar = plt.colorbar(pad=0.05)\n",
    "    cbar.set_ticks(np.linspace(-1200, 1200, 13))\n",
    "    plt.show()\n",
    "    plt.close()"
   ]
  },
  {
   "cell_type": "code",
   "execution_count": null,
   "metadata": {},
   "outputs": [],
   "source": [
    "NX = 45\n",
    "NY = 45\n",
    "DT = 360.\n",
    "lon = np.loadtxt(\"../outputs/grid/lon.txt\").reshape(6, NX, NY) * 180. / np.pi\n",
    "lat = np.loadtxt(\"../outputs/grid/lat.txt\").reshape(6, NX, NY) * 180. / np.pi\n",
    "\n",
    "lon4Panel = np.concatenate((lon[0], lon[1], lon[2], lon[3]), axis=0)\n",
    "lat4Panel = np.concatenate((lat[0], lat[1], lat[2], lat[3]), axis=0)\n",
    "\n",
    "x = np.loadtxt(\"../outputs/grid/x.txt\").reshape(6, NX, NY)\n",
    "y = np.loadtxt(\"../outputs/grid/y.txt\").reshape(6, NX, NY)\n",
    "count = 0\n",
    "for t in range(0, 6000, 10):\n",
    "    h = np.loadtxt(f\"../outputs/h/h_{t*10}.txt\").reshape(6, NX, NY)\n",
    "    # u = np.loadtxt(\"../outputs/u/u_0.txt\").reshape(6, NX, NY)\n",
    "    # v = np.loadtxt(\"../outputs/v/v_0.txt\").reshape(6, NX, NY)\n",
    "\n",
    "    h4panel = np.concatenate((h[0], h[1], h[2], h[3]), axis=0)\n",
    "    plt.figure(figsize=(18,8))\n",
    "    plt.xlabel(\"LON\")\n",
    "    plt.ylabel(\"LAT\")\n",
    "    plt.title(f\"t = {t * DT / 60} min\", fontsize=14)\n",
    "    # plt.contourf(lon4Panel, lat4Panel, h4panel)\n",
    "    # CF = plt.contourf(lon4Panel, lat4Panel, h4panel, levels=np.linspace(-1000, 3000,20), extend='both')\n",
    "    # cbar = plt.colorbar(pad=0.05)\n",
    "    # cbar.set_ticks(np.linspace(-1000, 3000,10))\n",
    "    plt.plot(h4panel[:, NX//2])\n",
    "    plt.ylim(-4000, 10000)\n",
    "    plt.savefig(f\"../graphs/test/h_1d/{count}.png\")\n",
    "    plt.close()\n",
    "    count += 1"
   ]
  },
  {
   "cell_type": "markdown",
   "metadata": {},
   "source": [
    "## 3D plot"
   ]
  }
 ],
 "metadata": {
  "interpreter": {
   "hash": "e72609c0a7db2dac87eb69b6e3eea5379b6dc1bb2c88836fd40789aaef8e86c1"
  },
  "kernelspec": {
   "display_name": "Python 3.8.12 ('base')",
   "language": "python",
   "name": "python3"
  },
  "language_info": {
   "codemirror_mode": {
    "name": "ipython",
    "version": 3
   },
   "file_extension": ".py",
   "mimetype": "text/x-python",
   "name": "python",
   "nbconvert_exporter": "python",
   "pygments_lexer": "ipython3",
   "version": "3.8.12"
  },
  "orig_nbformat": 4
 },
 "nbformat": 4,
 "nbformat_minor": 2
}
