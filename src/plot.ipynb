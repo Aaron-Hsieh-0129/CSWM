{
 "cells": [
  {
   "cell_type": "code",
   "execution_count": null,
   "metadata": {},
   "outputs": [],
   "source": [
    "import matplotlib.pyplot as plt\n",
    "import numpy as np\n",
    "import matplotlib.cm as cm\n",
    "from mpl_toolkits.axes_grid1 import make_axes_locatable\n",
    "from mpl_toolkits.mplot3d import Axes3D"
   ]
  },
  {
   "cell_type": "code",
   "execution_count": null,
   "metadata": {},
   "outputs": [],
   "source": [
    "NX = 45\n",
    "NY = 45\n",
    "DT = 360.\n",
    "\"\"\"\n",
    "lon = np.zeros([6, NX, NY])\n",
    "lat = np.zeros([6, NX, NY])\n",
    "x = np.zeros([6, NX, NY])\n",
    "y = np.zeros([6, NX, NY])\n",
    "for p in range(6):\n",
    "    lon[p] = (np.loadtxt(f\"../outputs/patch{p+1}/lon.txt\") * 180 / np.pi).reshape(NX, NY)\n",
    "    lat[p] = (np.loadtxt(f\"../outputs/patch{p+1}/lat.txt\") * 180 / np.pi).reshape(NX, NY)\n",
    "    x[p] = (np.loadtxt(f\"../outputs/patch{p+1}/x.txt\") * 180 / np.pi).reshape(NX, NY)\n",
    "    y[p] = (np.loadtxt(f\"../outputs/patch{p+1}/y.txt\") * 180 / np.pi).reshape(NX, NY)\n",
    "\"\"\"\n",
    "lon = np.loadtxt(\"../outputs/lon.txt\").reshape(6, NX, NY) * 180. / np.pi\n",
    "lat = np.loadtxt(\"../outputs/lat.txt\").reshape(6, NX, NY) * 180. / np.pi\n",
    "\n",
    "x = np.loadtxt(\"../outputs/x.txt\").reshape(6, NX, NY)\n",
    "y = np.loadtxt(\"../outputs/y.txt\").reshape(6, NX, NY)\n",
    "\n",
    "count = 0\n",
    "h = np.zeros([6, NX, NY])\n",
    "for t in range(0, 6000, 10):\n",
    "    h = np.loadtxt(f\"../outputs/h/h_{t*10}.txt\").reshape(6, NX, NY)\n",
    "\n",
    "    plt.figure(figsize=(18,8))\n",
    "    plt.xlabel(\"LON\")\n",
    "    plt.ylabel(\"LAT\")\n",
    "    plt.title(f\"t = {t * 10 * DT / 60} min\", fontsize=14)\n",
    "\n",
    "    plt.contourf(lon[0], lat[0], h[0], levels=np.linspace(-1200, 1200, 13), extend='both')\n",
    "    plt.contourf(lon[1], lat[1], h[1], levels=np.linspace(-1200, 1200, 13), extend='both')\n",
    "    plt.contourf(lon[2, 0:NX//2, :], lat[2, 0:NX//2, :], h[2, 0:NX//2, :], levels=np.linspace(-1200, 1200, 13), extend='both')\n",
    "    plt.contourf(lon[2, NX//2:, :]-360, lat[2, NX//2:, :], h[2, NX//2:, :], levels=np.linspace(-1200, 1200, 13), extend='both')\n",
    "    plt.contourf(lon[3]-360, lat[3], h[3], levels=np.linspace(-1200, 1200, 12), extend='both')\n",
    "    plt.contourf(lon[4], lat[4], h[4], levels=np.linspace(-1200, 1200, 13), extend='both')\n",
    "    plt.contourf(lon[5], lat[5], h[5], levels=np.linspace(-1200, 1200, 13), extend='both')\n",
    "    cbar = plt.colorbar(pad=0.05)\n",
    "    cbar.set_ticks(np.linspace(-1200, 1200, 13))\n",
    "\n",
    "    plt.savefig(f\"../graphs/h/sphere/{count}.png\", dpi=150)\n",
    "    plt.close()\n",
    "    count += 1\n"
   ]
  },
  {
   "cell_type": "code",
   "execution_count": null,
   "metadata": {},
   "outputs": [],
   "source": [
    "NX = 45\n",
    "NY = 45\n",
    "DT = 360.\n",
    "lon = np.loadtxt(\"../outputs/lon.txt\").reshape(6, NX, NY) * 180. / np.pi\n",
    "lat = np.loadtxt(\"../outputs/lat.txt\").reshape(6, NX, NY) * 180. / np.pi\n",
    "\n",
    "x = np.loadtxt(\"../outputs/x.txt\").reshape(6, NX, NY)\n",
    "y = np.loadtxt(\"../outputs/y.txt\").reshape(6, NX, NY)\n",
    "\n",
    "count = 0\n",
    "h = np.zeros([6, NX, NY])\n",
    "for t in range(0, 6000, 10):\n",
    "    h = np.loadtxt(f\"../outputs/h/h_{t*10}.txt\").reshape(6, NX, NY)\n",
    "\n",
    "    fig = plt.figure(figsize=(18,10))\n",
    "    ax5 = fig.add_subplot(3,4,2)\n",
    "    ax4 = fig.add_subplot(3,4,5)\n",
    "    ax1 = fig.add_subplot(3,4,6)\n",
    "    ax2 = fig.add_subplot(3,4,7)\n",
    "    ax3 = fig.add_subplot(3,4,8)\n",
    "    ax6 = fig.add_subplot(3,4,10)\n",
    "    ax5.set_title(f\"t = {t * 10 * DT / 60} min\", fontsize=14)\n",
    "\n",
    "    ax1.contourf(x[0], y[0], h[0], levels=np.linspace(-1200, 1200, 13), extend='both')\n",
    "    ax2.contourf(x[1], y[1], h[1], levels=np.linspace(-1200, 1200, 13), extend='both')\n",
    "    ax3.contourf(x[2], y[2], h[2], levels=np.linspace(-1200, 1200, 13), extend='both')\n",
    "    ax4.contourf(x[3], y[3], h[3], levels=np.linspace(-1200, 1200, 13), extend='both')\n",
    "    ax5.contourf(x[4], y[4], h[4], levels=np.linspace(-1200, 1200, 13), extend='both')\n",
    "    ax6.contourf(x[5], y[5], h[5], levels=np.linspace(-1200, 1200, 13), extend='both')\n",
    "\n",
    "    plt.savefig(f\"../graphs/h/curvilinear/{count}.png\", dpi=150)\n",
    "    plt.close()\n",
    "    count += 1"
   ]
  },
  {
   "cell_type": "code",
   "execution_count": 406,
   "metadata": {},
   "outputs": [
    {
     "ename": "KeyboardInterrupt",
     "evalue": "",
     "output_type": "error",
     "traceback": [
      "\u001b[0;31m---------------------------------------------------------------------------\u001b[0m",
      "\u001b[0;31mKeyboardInterrupt\u001b[0m                         Traceback (most recent call last)",
      "\u001b[1;32m/Users/Aaron/CSWM/src/plot.ipynb Cell 4'\u001b[0m in \u001b[0;36m<cell line: 13>\u001b[0;34m()\u001b[0m\n\u001b[1;32m     <a href='vscode-notebook-cell:/Users/Aaron/CSWM/src/plot.ipynb#ch0000003?line=28'>29</a>\u001b[0m plt\u001b[39m.\u001b[39mcontourf(lon[\u001b[39m2\u001b[39m, NX\u001b[39m/\u001b[39m\u001b[39m/\u001b[39m\u001b[39m2\u001b[39m:, :]\u001b[39m-\u001b[39m\u001b[39m360\u001b[39m, lat[\u001b[39m2\u001b[39m, NX\u001b[39m/\u001b[39m\u001b[39m/\u001b[39m\u001b[39m2\u001b[39m:, :], h[\u001b[39m2\u001b[39m, NX\u001b[39m/\u001b[39m\u001b[39m/\u001b[39m\u001b[39m2\u001b[39m:, :], levels\u001b[39m=\u001b[39mnp\u001b[39m.\u001b[39mlinspace(\u001b[39m-\u001b[39m\u001b[39m12\u001b[39m, \u001b[39m12\u001b[39m, \u001b[39m13\u001b[39m), extend\u001b[39m=\u001b[39m\u001b[39m'\u001b[39m\u001b[39mboth\u001b[39m\u001b[39m'\u001b[39m)\n\u001b[1;32m     <a href='vscode-notebook-cell:/Users/Aaron/CSWM/src/plot.ipynb#ch0000003?line=29'>30</a>\u001b[0m plt\u001b[39m.\u001b[39mcontourf(lon[\u001b[39m3\u001b[39m]\u001b[39m-\u001b[39m\u001b[39m360\u001b[39m, lat[\u001b[39m3\u001b[39m], h[\u001b[39m3\u001b[39m], levels\u001b[39m=\u001b[39mnp\u001b[39m.\u001b[39mlinspace(\u001b[39m-\u001b[39m\u001b[39m12\u001b[39m, \u001b[39m12\u001b[39m, \u001b[39m12\u001b[39m), extend\u001b[39m=\u001b[39m\u001b[39m'\u001b[39m\u001b[39mboth\u001b[39m\u001b[39m'\u001b[39m)\n\u001b[0;32m---> <a href='vscode-notebook-cell:/Users/Aaron/CSWM/src/plot.ipynb#ch0000003?line=30'>31</a>\u001b[0m plt\u001b[39m.\u001b[39;49mcontourf(lon[\u001b[39m4\u001b[39;49m], lat[\u001b[39m4\u001b[39;49m], h[\u001b[39m4\u001b[39;49m], levels\u001b[39m=\u001b[39;49mnp\u001b[39m.\u001b[39;49mlinspace(\u001b[39m-\u001b[39;49m\u001b[39m12\u001b[39;49m, \u001b[39m12\u001b[39;49m, \u001b[39m13\u001b[39;49m), extend\u001b[39m=\u001b[39;49m\u001b[39m'\u001b[39;49m\u001b[39mboth\u001b[39;49m\u001b[39m'\u001b[39;49m)\n\u001b[1;32m     <a href='vscode-notebook-cell:/Users/Aaron/CSWM/src/plot.ipynb#ch0000003?line=31'>32</a>\u001b[0m plt\u001b[39m.\u001b[39mcontourf(lon[\u001b[39m5\u001b[39m], lat[\u001b[39m5\u001b[39m], h[\u001b[39m5\u001b[39m], levels\u001b[39m=\u001b[39mnp\u001b[39m.\u001b[39mlinspace(\u001b[39m-\u001b[39m\u001b[39m12\u001b[39m, \u001b[39m12\u001b[39m, \u001b[39m13\u001b[39m), extend\u001b[39m=\u001b[39m\u001b[39m'\u001b[39m\u001b[39mboth\u001b[39m\u001b[39m'\u001b[39m)\n\u001b[1;32m     <a href='vscode-notebook-cell:/Users/Aaron/CSWM/src/plot.ipynb#ch0000003?line=32'>33</a>\u001b[0m cbar \u001b[39m=\u001b[39m plt\u001b[39m.\u001b[39mcolorbar(pad\u001b[39m=\u001b[39m\u001b[39m0.05\u001b[39m)\n",
      "File \u001b[0;32m~/miniconda3/lib/python3.8/site-packages/matplotlib/pyplot.py:2482\u001b[0m, in \u001b[0;36mcontourf\u001b[0;34m(data, *args, **kwargs)\u001b[0m\n\u001b[1;32m   <a href='file:///Users/Aaron/miniconda3/lib/python3.8/site-packages/matplotlib/pyplot.py?line=2479'>2480</a>\u001b[0m \u001b[39m@_copy_docstring_and_deprecators\u001b[39m(Axes\u001b[39m.\u001b[39mcontourf)\n\u001b[1;32m   <a href='file:///Users/Aaron/miniconda3/lib/python3.8/site-packages/matplotlib/pyplot.py?line=2480'>2481</a>\u001b[0m \u001b[39mdef\u001b[39;00m \u001b[39mcontourf\u001b[39m(\u001b[39m*\u001b[39margs, data\u001b[39m=\u001b[39m\u001b[39mNone\u001b[39;00m, \u001b[39m*\u001b[39m\u001b[39m*\u001b[39mkwargs):\n\u001b[0;32m-> <a href='file:///Users/Aaron/miniconda3/lib/python3.8/site-packages/matplotlib/pyplot.py?line=2481'>2482</a>\u001b[0m     __ret \u001b[39m=\u001b[39m gca()\u001b[39m.\u001b[39;49mcontourf(\n\u001b[1;32m   <a href='file:///Users/Aaron/miniconda3/lib/python3.8/site-packages/matplotlib/pyplot.py?line=2482'>2483</a>\u001b[0m         \u001b[39m*\u001b[39;49margs, \u001b[39m*\u001b[39;49m\u001b[39m*\u001b[39;49m({\u001b[39m\"\u001b[39;49m\u001b[39mdata\u001b[39;49m\u001b[39m\"\u001b[39;49m: data} \u001b[39mif\u001b[39;49;00m data \u001b[39mis\u001b[39;49;00m \u001b[39mnot\u001b[39;49;00m \u001b[39mNone\u001b[39;49;00m \u001b[39melse\u001b[39;49;00m {}),\n\u001b[1;32m   <a href='file:///Users/Aaron/miniconda3/lib/python3.8/site-packages/matplotlib/pyplot.py?line=2483'>2484</a>\u001b[0m         \u001b[39m*\u001b[39;49m\u001b[39m*\u001b[39;49mkwargs)\n\u001b[1;32m   <a href='file:///Users/Aaron/miniconda3/lib/python3.8/site-packages/matplotlib/pyplot.py?line=2484'>2485</a>\u001b[0m     \u001b[39mif\u001b[39;00m __ret\u001b[39m.\u001b[39m_A \u001b[39mis\u001b[39;00m \u001b[39mnot\u001b[39;00m \u001b[39mNone\u001b[39;00m: sci(__ret)  \u001b[39m# noqa\u001b[39;00m\n\u001b[1;32m   <a href='file:///Users/Aaron/miniconda3/lib/python3.8/site-packages/matplotlib/pyplot.py?line=2485'>2486</a>\u001b[0m     \u001b[39mreturn\u001b[39;00m __ret\n",
      "File \u001b[0;32m~/miniconda3/lib/python3.8/site-packages/matplotlib/__init__.py:1412\u001b[0m, in \u001b[0;36m_preprocess_data.<locals>.inner\u001b[0;34m(ax, data, *args, **kwargs)\u001b[0m\n\u001b[1;32m   <a href='file:///Users/Aaron/miniconda3/lib/python3.8/site-packages/matplotlib/__init__.py?line=1408'>1409</a>\u001b[0m \u001b[39m@functools\u001b[39m\u001b[39m.\u001b[39mwraps(func)\n\u001b[1;32m   <a href='file:///Users/Aaron/miniconda3/lib/python3.8/site-packages/matplotlib/__init__.py?line=1409'>1410</a>\u001b[0m \u001b[39mdef\u001b[39;00m \u001b[39minner\u001b[39m(ax, \u001b[39m*\u001b[39margs, data\u001b[39m=\u001b[39m\u001b[39mNone\u001b[39;00m, \u001b[39m*\u001b[39m\u001b[39m*\u001b[39mkwargs):\n\u001b[1;32m   <a href='file:///Users/Aaron/miniconda3/lib/python3.8/site-packages/matplotlib/__init__.py?line=1410'>1411</a>\u001b[0m     \u001b[39mif\u001b[39;00m data \u001b[39mis\u001b[39;00m \u001b[39mNone\u001b[39;00m:\n\u001b[0;32m-> <a href='file:///Users/Aaron/miniconda3/lib/python3.8/site-packages/matplotlib/__init__.py?line=1411'>1412</a>\u001b[0m         \u001b[39mreturn\u001b[39;00m func(ax, \u001b[39m*\u001b[39;49m\u001b[39mmap\u001b[39;49m(sanitize_sequence, args), \u001b[39m*\u001b[39;49m\u001b[39m*\u001b[39;49mkwargs)\n\u001b[1;32m   <a href='file:///Users/Aaron/miniconda3/lib/python3.8/site-packages/matplotlib/__init__.py?line=1413'>1414</a>\u001b[0m     bound \u001b[39m=\u001b[39m new_sig\u001b[39m.\u001b[39mbind(ax, \u001b[39m*\u001b[39margs, \u001b[39m*\u001b[39m\u001b[39m*\u001b[39mkwargs)\n\u001b[1;32m   <a href='file:///Users/Aaron/miniconda3/lib/python3.8/site-packages/matplotlib/__init__.py?line=1414'>1415</a>\u001b[0m     auto_label \u001b[39m=\u001b[39m (bound\u001b[39m.\u001b[39marguments\u001b[39m.\u001b[39mget(label_namer)\n\u001b[1;32m   <a href='file:///Users/Aaron/miniconda3/lib/python3.8/site-packages/matplotlib/__init__.py?line=1415'>1416</a>\u001b[0m                   \u001b[39mor\u001b[39;00m bound\u001b[39m.\u001b[39mkwargs\u001b[39m.\u001b[39mget(label_namer))\n",
      "File \u001b[0;32m~/miniconda3/lib/python3.8/site-packages/matplotlib/axes/_axes.py:6317\u001b[0m, in \u001b[0;36mAxes.contourf\u001b[0;34m(self, *args, **kwargs)\u001b[0m\n\u001b[1;32m   <a href='file:///Users/Aaron/miniconda3/lib/python3.8/site-packages/matplotlib/axes/_axes.py?line=6307'>6308</a>\u001b[0m \u001b[39m\"\"\"\u001b[39;00m\n\u001b[1;32m   <a href='file:///Users/Aaron/miniconda3/lib/python3.8/site-packages/matplotlib/axes/_axes.py?line=6308'>6309</a>\u001b[0m \u001b[39mPlot filled contours.\u001b[39;00m\n\u001b[1;32m   <a href='file:///Users/Aaron/miniconda3/lib/python3.8/site-packages/matplotlib/axes/_axes.py?line=6309'>6310</a>\u001b[0m \n\u001b[0;32m   (...)\u001b[0m\n\u001b[1;32m   <a href='file:///Users/Aaron/miniconda3/lib/python3.8/site-packages/matplotlib/axes/_axes.py?line=6313'>6314</a>\u001b[0m \u001b[39m%(contour_doc)s\u001b[39;00m\n\u001b[1;32m   <a href='file:///Users/Aaron/miniconda3/lib/python3.8/site-packages/matplotlib/axes/_axes.py?line=6314'>6315</a>\u001b[0m \u001b[39m\"\"\"\u001b[39;00m\n\u001b[1;32m   <a href='file:///Users/Aaron/miniconda3/lib/python3.8/site-packages/matplotlib/axes/_axes.py?line=6315'>6316</a>\u001b[0m kwargs[\u001b[39m'\u001b[39m\u001b[39mfilled\u001b[39m\u001b[39m'\u001b[39m] \u001b[39m=\u001b[39m \u001b[39mTrue\u001b[39;00m\n\u001b[0;32m-> <a href='file:///Users/Aaron/miniconda3/lib/python3.8/site-packages/matplotlib/axes/_axes.py?line=6316'>6317</a>\u001b[0m contours \u001b[39m=\u001b[39m mcontour\u001b[39m.\u001b[39;49mQuadContourSet(\u001b[39mself\u001b[39;49m, \u001b[39m*\u001b[39;49margs, \u001b[39m*\u001b[39;49m\u001b[39m*\u001b[39;49mkwargs)\n\u001b[1;32m   <a href='file:///Users/Aaron/miniconda3/lib/python3.8/site-packages/matplotlib/axes/_axes.py?line=6317'>6318</a>\u001b[0m \u001b[39mself\u001b[39m\u001b[39m.\u001b[39m_request_autoscale_view()\n\u001b[1;32m   <a href='file:///Users/Aaron/miniconda3/lib/python3.8/site-packages/matplotlib/axes/_axes.py?line=6318'>6319</a>\u001b[0m \u001b[39mreturn\u001b[39;00m contours\n",
      "File \u001b[0;32m~/miniconda3/lib/python3.8/site-packages/matplotlib/contour.py:916\u001b[0m, in \u001b[0;36mContourSet.__init__\u001b[0;34m(self, ax, levels, filled, linewidths, linestyles, hatches, alpha, origin, extent, cmap, colors, norm, vmin, vmax, extend, antialiased, nchunk, locator, transform, *args, **kwargs)\u001b[0m\n\u001b[1;32m    <a href='file:///Users/Aaron/miniconda3/lib/python3.8/site-packages/matplotlib/contour.py?line=899'>900</a>\u001b[0m     \u001b[39mself\u001b[39m\u001b[39m.\u001b[39mcollections[:] \u001b[39m=\u001b[39m [\n\u001b[1;32m    <a href='file:///Users/Aaron/miniconda3/lib/python3.8/site-packages/matplotlib/contour.py?line=900'>901</a>\u001b[0m         mcoll\u001b[39m.\u001b[39mPathCollection(\n\u001b[1;32m    <a href='file:///Users/Aaron/miniconda3/lib/python3.8/site-packages/matplotlib/contour.py?line=901'>902</a>\u001b[0m             \u001b[39mself\u001b[39m\u001b[39m.\u001b[39m_make_paths(segs, kinds),\n\u001b[0;32m   (...)\u001b[0m\n\u001b[1;32m    <a href='file:///Users/Aaron/miniconda3/lib/python3.8/site-packages/matplotlib/contour.py?line=911'>912</a>\u001b[0m         \u001b[39min\u001b[39;00m \u001b[39mzip\u001b[39m(\u001b[39mself\u001b[39m\u001b[39m.\u001b[39mlevels, tlinewidths, tlinestyles, \u001b[39mself\u001b[39m\u001b[39m.\u001b[39mallsegs,\n\u001b[1;32m    <a href='file:///Users/Aaron/miniconda3/lib/python3.8/site-packages/matplotlib/contour.py?line=912'>913</a>\u001b[0m                \u001b[39mself\u001b[39m\u001b[39m.\u001b[39mallkinds)]\n\u001b[1;32m    <a href='file:///Users/Aaron/miniconda3/lib/python3.8/site-packages/matplotlib/contour.py?line=914'>915</a>\u001b[0m \u001b[39mfor\u001b[39;00m col \u001b[39min\u001b[39;00m \u001b[39mself\u001b[39m\u001b[39m.\u001b[39mcollections:\n\u001b[0;32m--> <a href='file:///Users/Aaron/miniconda3/lib/python3.8/site-packages/matplotlib/contour.py?line=915'>916</a>\u001b[0m     \u001b[39mself\u001b[39;49m\u001b[39m.\u001b[39;49maxes\u001b[39m.\u001b[39;49madd_collection(col, autolim\u001b[39m=\u001b[39;49m\u001b[39mFalse\u001b[39;49;00m)\n\u001b[1;32m    <a href='file:///Users/Aaron/miniconda3/lib/python3.8/site-packages/matplotlib/contour.py?line=916'>917</a>\u001b[0m     col\u001b[39m.\u001b[39msticky_edges\u001b[39m.\u001b[39mx[:] \u001b[39m=\u001b[39m [\u001b[39mself\u001b[39m\u001b[39m.\u001b[39m_mins[\u001b[39m0\u001b[39m], \u001b[39mself\u001b[39m\u001b[39m.\u001b[39m_maxs[\u001b[39m0\u001b[39m]]\n\u001b[1;32m    <a href='file:///Users/Aaron/miniconda3/lib/python3.8/site-packages/matplotlib/contour.py?line=917'>918</a>\u001b[0m     col\u001b[39m.\u001b[39msticky_edges\u001b[39m.\u001b[39my[:] \u001b[39m=\u001b[39m [\u001b[39mself\u001b[39m\u001b[39m.\u001b[39m_mins[\u001b[39m1\u001b[39m], \u001b[39mself\u001b[39m\u001b[39m.\u001b[39m_maxs[\u001b[39m1\u001b[39m]]\n",
      "File \u001b[0;32m~/miniconda3/lib/python3.8/site-packages/matplotlib/axes/_base.py:2237\u001b[0m, in \u001b[0;36m_AxesBase.add_collection\u001b[0;34m(self, collection, autolim)\u001b[0m\n\u001b[1;32m   <a href='file:///Users/Aaron/miniconda3/lib/python3.8/site-packages/matplotlib/axes/_base.py?line=2233'>2234</a>\u001b[0m \u001b[39mself\u001b[39m\u001b[39m.\u001b[39m_set_artist_props(collection)\n\u001b[1;32m   <a href='file:///Users/Aaron/miniconda3/lib/python3.8/site-packages/matplotlib/axes/_base.py?line=2235'>2236</a>\u001b[0m \u001b[39mif\u001b[39;00m collection\u001b[39m.\u001b[39mget_clip_path() \u001b[39mis\u001b[39;00m \u001b[39mNone\u001b[39;00m:\n\u001b[0;32m-> <a href='file:///Users/Aaron/miniconda3/lib/python3.8/site-packages/matplotlib/axes/_base.py?line=2236'>2237</a>\u001b[0m     collection\u001b[39m.\u001b[39;49mset_clip_path(\u001b[39mself\u001b[39;49m\u001b[39m.\u001b[39;49mpatch)\n\u001b[1;32m   <a href='file:///Users/Aaron/miniconda3/lib/python3.8/site-packages/matplotlib/axes/_base.py?line=2238'>2239</a>\u001b[0m \u001b[39mif\u001b[39;00m autolim:\n\u001b[1;32m   <a href='file:///Users/Aaron/miniconda3/lib/python3.8/site-packages/matplotlib/axes/_base.py?line=2239'>2240</a>\u001b[0m     \u001b[39m# Make sure viewLim is not stale (mostly to match\u001b[39;00m\n\u001b[1;32m   <a href='file:///Users/Aaron/miniconda3/lib/python3.8/site-packages/matplotlib/axes/_base.py?line=2240'>2241</a>\u001b[0m     \u001b[39m# pre-lazy-autoscale behavior, which is not really better).\u001b[39;00m\n\u001b[1;32m   <a href='file:///Users/Aaron/miniconda3/lib/python3.8/site-packages/matplotlib/axes/_base.py?line=2241'>2242</a>\u001b[0m     \u001b[39mself\u001b[39m\u001b[39m.\u001b[39m_unstale_viewLim()\n",
      "File \u001b[0;32m~/miniconda3/lib/python3.8/site-packages/matplotlib/artist.py:818\u001b[0m, in \u001b[0;36mArtist.set_clip_path\u001b[0;34m(self, path, transform)\u001b[0m\n\u001b[1;32m    <a href='file:///Users/Aaron/miniconda3/lib/python3.8/site-packages/matplotlib/artist.py?line=812'>813</a>\u001b[0m     \u001b[39mraise\u001b[39;00m \u001b[39mTypeError\u001b[39;00m(\n\u001b[1;32m    <a href='file:///Users/Aaron/miniconda3/lib/python3.8/site-packages/matplotlib/artist.py?line=813'>814</a>\u001b[0m         \u001b[39m\"\u001b[39m\u001b[39mInvalid arguments to set_clip_path, of type \u001b[39m\u001b[39m{}\u001b[39;00m\u001b[39m and \u001b[39m\u001b[39m{}\u001b[39;00m\u001b[39m\"\u001b[39m\n\u001b[1;32m    <a href='file:///Users/Aaron/miniconda3/lib/python3.8/site-packages/matplotlib/artist.py?line=814'>815</a>\u001b[0m         \u001b[39m.\u001b[39mformat(\u001b[39mtype\u001b[39m(path)\u001b[39m.\u001b[39m\u001b[39m__name__\u001b[39m, \u001b[39mtype\u001b[39m(transform)\u001b[39m.\u001b[39m\u001b[39m__name__\u001b[39m))\n\u001b[1;32m    <a href='file:///Users/Aaron/miniconda3/lib/python3.8/site-packages/matplotlib/artist.py?line=815'>816</a>\u001b[0m \u001b[39m# This may result in the callbacks being hit twice, but guarantees they\u001b[39;00m\n\u001b[1;32m    <a href='file:///Users/Aaron/miniconda3/lib/python3.8/site-packages/matplotlib/artist.py?line=816'>817</a>\u001b[0m \u001b[39m# will be hit at least once.\u001b[39;00m\n\u001b[0;32m--> <a href='file:///Users/Aaron/miniconda3/lib/python3.8/site-packages/matplotlib/artist.py?line=817'>818</a>\u001b[0m \u001b[39mself\u001b[39;49m\u001b[39m.\u001b[39;49mpchanged()\n\u001b[1;32m    <a href='file:///Users/Aaron/miniconda3/lib/python3.8/site-packages/matplotlib/artist.py?line=818'>819</a>\u001b[0m \u001b[39mself\u001b[39m\u001b[39m.\u001b[39mstale \u001b[39m=\u001b[39m \u001b[39mTrue\u001b[39;00m\n",
      "File \u001b[0;32m~/miniconda3/lib/python3.8/site-packages/matplotlib/artist.py:416\u001b[0m, in \u001b[0;36mArtist.pchanged\u001b[0;34m(self)\u001b[0m\n\u001b[1;32m    <a href='file:///Users/Aaron/miniconda3/lib/python3.8/site-packages/matplotlib/artist.py?line=404'>405</a>\u001b[0m \u001b[39mdef\u001b[39;00m \u001b[39mpchanged\u001b[39m(\u001b[39mself\u001b[39m):\n\u001b[1;32m    <a href='file:///Users/Aaron/miniconda3/lib/python3.8/site-packages/matplotlib/artist.py?line=405'>406</a>\u001b[0m     \u001b[39m\"\"\"\u001b[39;00m\n\u001b[1;32m    <a href='file:///Users/Aaron/miniconda3/lib/python3.8/site-packages/matplotlib/artist.py?line=406'>407</a>\u001b[0m \u001b[39m    Call all of the registered callbacks.\u001b[39;00m\n\u001b[1;32m    <a href='file:///Users/Aaron/miniconda3/lib/python3.8/site-packages/matplotlib/artist.py?line=407'>408</a>\u001b[0m \n\u001b[0;32m   (...)\u001b[0m\n\u001b[1;32m    <a href='file:///Users/Aaron/miniconda3/lib/python3.8/site-packages/matplotlib/artist.py?line=413'>414</a>\u001b[0m \u001b[39m    remove_callback\u001b[39;00m\n\u001b[1;32m    <a href='file:///Users/Aaron/miniconda3/lib/python3.8/site-packages/matplotlib/artist.py?line=414'>415</a>\u001b[0m \u001b[39m    \"\"\"\u001b[39;00m\n\u001b[0;32m--> <a href='file:///Users/Aaron/miniconda3/lib/python3.8/site-packages/matplotlib/artist.py?line=415'>416</a>\u001b[0m     \u001b[39mself\u001b[39;49m\u001b[39m.\u001b[39;49m_callbacks\u001b[39m.\u001b[39;49mprocess(\u001b[39m\"\u001b[39;49m\u001b[39mpchanged\u001b[39;49m\u001b[39m\"\u001b[39;49m)\n",
      "File \u001b[0;32m~/miniconda3/lib/python3.8/site-packages/matplotlib/cbook/__init__.py:283\u001b[0m, in \u001b[0;36mCallbackRegistry.process\u001b[0;34m(self, s, *args, **kwargs)\u001b[0m\n\u001b[1;32m    <a href='file:///Users/Aaron/miniconda3/lib/python3.8/site-packages/matplotlib/cbook/__init__.py?line=275'>276</a>\u001b[0m \u001b[39mdef\u001b[39;00m \u001b[39mprocess\u001b[39m(\u001b[39mself\u001b[39m, s, \u001b[39m*\u001b[39margs, \u001b[39m*\u001b[39m\u001b[39m*\u001b[39mkwargs):\n\u001b[1;32m    <a href='file:///Users/Aaron/miniconda3/lib/python3.8/site-packages/matplotlib/cbook/__init__.py?line=276'>277</a>\u001b[0m     \u001b[39m\"\"\"\u001b[39;00m\n\u001b[1;32m    <a href='file:///Users/Aaron/miniconda3/lib/python3.8/site-packages/matplotlib/cbook/__init__.py?line=277'>278</a>\u001b[0m \u001b[39m    Process signal *s*.\u001b[39;00m\n\u001b[1;32m    <a href='file:///Users/Aaron/miniconda3/lib/python3.8/site-packages/matplotlib/cbook/__init__.py?line=278'>279</a>\u001b[0m \n\u001b[1;32m    <a href='file:///Users/Aaron/miniconda3/lib/python3.8/site-packages/matplotlib/cbook/__init__.py?line=279'>280</a>\u001b[0m \u001b[39m    All of the functions registered to receive callbacks on *s* will be\u001b[39;00m\n\u001b[1;32m    <a href='file:///Users/Aaron/miniconda3/lib/python3.8/site-packages/matplotlib/cbook/__init__.py?line=280'>281</a>\u001b[0m \u001b[39m    called with ``*args`` and ``**kwargs``.\u001b[39;00m\n\u001b[1;32m    <a href='file:///Users/Aaron/miniconda3/lib/python3.8/site-packages/matplotlib/cbook/__init__.py?line=281'>282</a>\u001b[0m \u001b[39m    \"\"\"\u001b[39;00m\n\u001b[0;32m--> <a href='file:///Users/Aaron/miniconda3/lib/python3.8/site-packages/matplotlib/cbook/__init__.py?line=282'>283</a>\u001b[0m     \u001b[39mfor\u001b[39;00m cid, ref \u001b[39min\u001b[39;00m \u001b[39mlist\u001b[39;49m(\u001b[39mself\u001b[39;49m\u001b[39m.\u001b[39;49mcallbacks\u001b[39m.\u001b[39;49mget(s, {})\u001b[39m.\u001b[39;49mitems()):\n\u001b[1;32m    <a href='file:///Users/Aaron/miniconda3/lib/python3.8/site-packages/matplotlib/cbook/__init__.py?line=283'>284</a>\u001b[0m         func \u001b[39m=\u001b[39m ref()\n\u001b[1;32m    <a href='file:///Users/Aaron/miniconda3/lib/python3.8/site-packages/matplotlib/cbook/__init__.py?line=284'>285</a>\u001b[0m         \u001b[39mif\u001b[39;00m func \u001b[39mis\u001b[39;00m \u001b[39mnot\u001b[39;00m \u001b[39mNone\u001b[39;00m:\n",
      "\u001b[0;31mKeyboardInterrupt\u001b[0m: "
     ]
    },
    {
     "data": {
      "image/png": "[encoded data removed]",
      "text/plain": [
       "<Figure size 1296x576 with 1 Axes>"
      ]
     },
     "metadata": {
      "needs_background": "light"
     },
     "output_type": "display_data"
    }
   ],
   "source": [
    "NX = 45\n",
    "NY = 45\n",
    "DT = 360.\n",
    "# DT = 100\n",
    "lon = np.loadtxt(\"../outputs/lon.txt\").reshape(6, NX, NY) * 180. / np.pi\n",
    "lat = np.loadtxt(\"../outputs/lat.txt\").reshape(6, NX, NY) * 180. / np.pi\n",
    "\n",
    "x = np.loadtxt(\"../outputs/x.txt\").reshape(6, NX, NY)\n",
    "y = np.loadtxt(\"../outputs/y.txt\").reshape(6, NX, NY)\n",
    "\n",
    "count = 0\n",
    "h = np.zeros([6, NX, NY])\n",
    "for t in range(0, 6000, 10):\n",
    "    # for p in range(6):\n",
    "    #     h[p] = np.loadtxt(f\"../outputs/patch{p+1}/h/h_{t*10}.txt\").reshape(NX, NY)\n",
    "\n",
    "    h = np.loadtxt(f\"../outputs/h/h_{10*t}.txt\").reshape(6, NX, NY)\n",
    "    u = np.loadtxt(f\"../outputs/u/u_{10*t}.txt\").reshape(6, NX, NY)\n",
    "    v = np.loadtxt(f\"../outputs/v/v_{10*t}.txt\").reshape(6, NX, NY)\n",
    "\n",
    "    plt.figure(figsize=(18,8))\n",
    "    plt.xlabel(\"LON\")\n",
    "    plt.ylabel(\"LAT\")\n",
    "    plt.title(f\"t = {t * 10 * DT / 60} min\", fontsize=14)\n",
    "\n",
    "    plt.contourf(lon[0], lat[0], h[0], levels=np.linspace(-12, 12, 13), extend='both')\n",
    "    plt.contourf(lon[1], lat[1], h[1], levels=np.linspace(-12, 12, 13), extend='both')\n",
    "    plt.contourf(lon[2, 0:NX//2, :], lat[2, 0:NX//2, :], h[2, 0:NX//2, :], levels=np.linspace(-12, 12, 13), extend='both')\n",
    "    plt.contourf(lon[2, NX//2:, :]-360, lat[2, NX//2:, :], h[2, NX//2:, :], levels=np.linspace(-12, 12, 13), extend='both')\n",
    "    plt.contourf(lon[3]-360, lat[3], h[3], levels=np.linspace(-12, 12, 12), extend='both')\n",
    "    plt.contourf(lon[4], lat[4], h[4], levels=np.linspace(-12, 12, 13), extend='both')\n",
    "    plt.contourf(lon[5], lat[5], h[5], levels=np.linspace(-12, 12, 13), extend='both')\n",
    "    cbar = plt.colorbar(pad=0.05)\n",
    "    cbar.set_ticks(np.linspace(-12, 12, 13))\n",
    "\n",
    "    plt.quiver(lon[0][::2, ::2], lat[0][::2, ::2], u[0][::2, ::2], v[0][::2, ::2], angles='xy', units=\"width\", scale=100)\n",
    "    plt.quiver(lon[1][::2, ::2], lat[1][::2, ::2], u[1][::2, ::2], v[1][::2, ::2], angles='xy', units=\"width\", scale=100)\n",
    "    plt.quiver(lon[2, 0:NX//2, :][::2, ::2], lat[2, 0:NX//2, :][::2, ::2], u[2, 0:NX//2, :][::2, ::2], v[2, 0:NX//2, :][::2, ::2], angles='xy', units=\"width\", scale=100)\n",
    "    plt.quiver(lon[2, NX//2:, :][::2, ::2]-360, lat[2, NX//2:, :][::2, ::2], u[2, NX//2:, :][::2, ::2], v[2, NX//2:, :][::2, ::2], angles='xy', units=\"width\", scale=100)\n",
    "    plt.quiver(lon[3][::2, ::2]-360, lat[3][::2, ::2], u[3][::2, ::2], v[3][::2, ::2], angles='xy', units=\"width\", scale=100)\n",
    "    plt.quiver(lon[4][::2, ::2], lat[4][::2, ::2], u[4][::2, ::2], v[4][::2, ::2], angles='xy', units=\"width\", scale=100)\n",
    "    Q = plt.quiver(lon[5][::2, ::2], lat[5][::2, ::2], u[5][::2, ::2], v[5][::2, ::2], angles='xy', units=\"width\", scale=100)\n",
    "    qk = plt.quiverkey(Q, 0.7, 0.9, 0.5, r'$5 \\frac{m}{s}$', labelpos='E', coordinates='figure')\n",
    "\n",
    "    plt.savefig(f\"../graphs/test/h/{count}.png\", dpi=150)\n",
    "    plt.close()\n",
    "    count += 1\n"
   ]
  },
  {
   "cell_type": "markdown",
   "metadata": {},
   "source": [
    "#### x/y"
   ]
  },
  {
   "cell_type": "code",
   "execution_count": null,
   "metadata": {},
   "outputs": [],
   "source": [
    "NX = 45\n",
    "NY = 45\n",
    "DT = 360\n",
    "u = np.loadtxt(\"../outputs/u/u_0.txt\").reshape(6, NX, NY)\n",
    "v = np.loadtxt(\"../outputs/v/v_0.txt\").reshape(6, NX, NY)\n",
    "x = np.loadtxt(\"../outputs/x.txt\").reshape(6, NX, NY)\n",
    "y = np.loadtxt(\"../outputs/y.txt\").reshape(6, NX, NY)\n",
    "lon = np.loadtxt(\"../outputs/lon.txt\").reshape(6, NX, NY) * 180. / np.pi\n",
    "lat = np.loadtxt(\"../outputs/lat.txt\").reshape(6, NX, NY) * 180. / np.pi\n",
    "\n",
    "fig = plt.figure(figsize=(18, 10))\n",
    "ax5 = fig.add_subplot(342)\n",
    "ax4 = fig.add_subplot(345)\n",
    "ax1 = fig.add_subplot(346)\n",
    "ax2 = fig.add_subplot(347)\n",
    "ax3 = fig.add_subplot(348)\n",
    "ax6 = fig.add_subplot(3,4,10)\n",
    "\n",
    "ax1.quiver(x[0][::2, ::2], y[0][::2, ::2], u[0][::2, ::2], v[0][::2, ::2], angles='xy', units=\"width\", scale=1000)\n",
    "ax2.quiver(x[1][::2, ::2], y[1][::2, ::2], u[1][::2, ::2], v[1][::2, ::2], angles='xy', units=\"width\", scale=1000)\n",
    "ax3.quiver(x[2][::2, ::2], y[2][::2, ::2], u[2][::2, ::2], v[2][::2, ::2], angles='xy', units=\"width\", scale=1000)\n",
    "ax4.quiver(x[3][::2, ::2], y[3][::2, ::2], u[3][::2, ::2], v[3][::2, ::2], angles='xy', units=\"width\", scale=1000)\n",
    "Q = ax5.quiver(x[4][::2, ::2], y[4][::2, ::2], u[4][::2, ::2], v[4][::2, ::2], angles='xy', units=\"width\", scale=1000)\n",
    "ax6.quiver(x[5][::2, ::2], y[5][::2, ::2], u[5][::2, ::2], v[5][::2, ::2], angles='xy', units=\"width\", scale=1000)\n",
    "qk = plt.quiverkey(Q, 0.48, 0.975, 30, r'$30 \\frac{m}{s}$', labelpos='E', coordinates='figure')\n",
    "ax5.set_title(\"Curvilinear Coordinate\")\n",
    "plt.tight_layout()\n",
    "plt.savefig(\"../graphs/wind/curvilinear.png\", dpi=150)\n",
    "plt.show()"
   ]
  },
  {
   "cell_type": "markdown",
   "metadata": {},
   "source": [
    "#### lon/lat"
   ]
  },
  {
   "cell_type": "code",
   "execution_count": null,
   "metadata": {},
   "outputs": [],
   "source": [
    "NX = 45\n",
    "NY = 45\n",
    "DT = 360.\n",
    "u = np.loadtxt(\"../outputs/u_lon_lat/u_lon_lat_0.txt\").reshape(6, NX, NY)\n",
    "v = np.loadtxt(\"../outputs/v_lon_lat/v_lon_lat_0.txt\").reshape(6, NX, NY)\n",
    "lon = np.loadtxt(\"../outputs/lon.txt\").reshape(6, NX, NY) * 180. / np.pi\n",
    "lat = np.loadtxt(\"../outputs/lat.txt\").reshape(6, NX, NY) * 180. / np.pi\n",
    "\n",
    "plt.figure(figsize=(18, 12))\n",
    "plt.title(\"Spherical Coordinate\")\n",
    "size = 2\n",
    "plt.quiver(lon[0][::size, ::size], lat[0][::size, ::size], u[0][::size, ::size], v[0][::size, ::size], scale=1500)\n",
    "plt.quiver(lon[1][::size, ::size], lat[1][::size, ::size], u[1][::size, ::size], v[1][::size, ::size], scale=1500)\n",
    "plt.quiver(lon[2, 0:NX//2, :][::size, ::size], lat[2, 0:NX//2, :][::size, ::size], u[2, 0:NX//2, :][::size, ::size], v[2, 0:NX//2, :][::size, ::size], scale=1500)\n",
    "plt.quiver(lon[2, NX//2:, :][::size, ::size]-360, lat[2, NX//2:, :][::size, ::size], u[2, NX//2:, :][::size, ::size], v[2, NX//2:, :][::size, ::size], scale=1500)\n",
    "plt.quiver(lon[3][::size, ::size]-360, lat[3][::size, ::size], u[3][::size, ::size], v[3][::size, ::size], scale=1500)\n",
    "plt.quiver(lon[4][::size, ::size], lat[4][::size, ::size], u[4][::size, ::size], v[4][::size, ::size], scale=1500)\n",
    "Q = plt.quiver(lon[5][::size, ::size], lat[5][::size, ::size], u[5][::size, ::size], v[5][::size, ::size], scale=1500)\n",
    "qk = plt.quiverkey(Q, 0.83, 0.89, 40, r'$40 \\frac{m}{s}$', labelpos='E', coordinates='figure')\n",
    "plt.savefig(\"../graphs/wind/spherical.png\", dpi=150)\n",
    "plt.show()"
   ]
  },
  {
   "cell_type": "code",
   "execution_count": null,
   "metadata": {},
   "outputs": [],
   "source": [
    "plt.figure(figsize=(12, 8))\n",
    "plt.contourf(np.swapaxes(u[0], 0, 1))\n",
    "plt.colorbar()\n",
    "plt.show()"
   ]
  },
  {
   "cell_type": "code",
   "execution_count": null,
   "metadata": {},
   "outputs": [],
   "source": [
    "p = 5\n",
    "for t in range(0, 6000, 10):\n",
    "    h = np.loadtxt(f\"../outputs/patch{p}/h/h_{t*10}.txt\").reshape(NX, NY)\n",
    "    plt.contourf(h, levels=np.linspace(-1200, 1200, 12), extend='both')\n",
    "    cbar = plt.colorbar(pad=0.05)\n",
    "    cbar.set_ticks(np.linspace(-1200, 1200, 13))\n",
    "    plt.show()\n",
    "    plt.close()"
   ]
  },
  {
   "cell_type": "code",
   "execution_count": null,
   "metadata": {},
   "outputs": [],
   "source": [
    "NX = 45\n",
    "NY = 45\n",
    "DT = 360.\n",
    "lon = np.loadtxt(\"../outputs/lon.txt\").reshape(6, NX, NY) * 180. / np.pi\n",
    "lat = np.loadtxt(\"../outputs/lat.txt\").reshape(6, NX, NY) * 180. / np.pi\n",
    "\n",
    "lon4Panel = np.concatenate((lon[0], lon[1], lon[2], lon[3]), axis=0)\n",
    "lat4Panel = np.concatenate((lat[0], lat[1], lat[2], lat[3]), axis=0)\n",
    "\n",
    "x = np.loadtxt(\"../outputs/x.txt\").reshape(6, NX, NY)\n",
    "y = np.loadtxt(\"../outputs/y.txt\").reshape(6, NX, NY)\n",
    "count = 0\n",
    "for t in range(0, 6000, 10):\n",
    "    h = np.loadtxt(f\"../outputs/h/h_{t*10}.txt\").reshape(6, NX, NY)\n",
    "    # u = np.loadtxt(\"../outputs/u/u_0.txt\").reshape(6, NX, NY)\n",
    "    # v = np.loadtxt(\"../outputs/v/v_0.txt\").reshape(6, NX, NY)\n",
    "\n",
    "    h4panel = np.concatenate((h[0], h[1], h[2], h[3]), axis=0)\n",
    "    plt.figure(figsize=(18,8))\n",
    "    plt.xlabel(\"LON\")\n",
    "    plt.ylabel(\"LAT\")\n",
    "    plt.title(f\"t = {t * DT / 60} min\", fontsize=14)\n",
    "    # plt.contourf(lon4Panel, lat4Panel, h4panel)\n",
    "    # CF = plt.contourf(lon4Panel, lat4Panel, h4panel, levels=np.linspace(-1000, 3000,20), extend='both')\n",
    "    # cbar = plt.colorbar(pad=0.05)\n",
    "    # cbar.set_ticks(np.linspace(-1000, 3000,10))\n",
    "    plt.plot(h4panel[:, NX//2])\n",
    "    plt.ylim(-4000, 10000)\n",
    "    plt.savefig(f\"../graphs/test/h_1d/{count}.png\")\n",
    "    plt.close()\n",
    "    count += 1"
   ]
  },
  {
   "cell_type": "markdown",
   "metadata": {},
   "source": [
    "## 3D plot"
   ]
  }
 ],
 "metadata": {
  "interpreter": {
   "hash": "e72609c0a7db2dac87eb69b6e3eea5379b6dc1bb2c88836fd40789aaef8e86c1"
  },
  "kernelspec": {
   "display_name": "Python 3.8.12 ('base')",
   "language": "python",
   "name": "python3"
  },
  "language_info": {
   "codemirror_mode": {
    "name": "ipython",
    "version": 3
   },
   "file_extension": ".py",
   "mimetype": "text/x-python",
   "name": "python",
   "nbconvert_exporter": "python",
   "pygments_lexer": "ipython3",
   "version": "3.8.12"
  },
  "orig_nbformat": 4
 },
 "nbformat": 4,
 "nbformat_minor": 2
}
